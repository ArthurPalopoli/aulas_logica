{
 "cells": [
  {
   "cell_type": "code",
   "execution_count": null,
   "metadata": {},
   "outputs": [
    {
     "name": "stdout",
     "output_type": "stream",
     "text": [
      "1\n",
      "2\n",
      "3\n",
      "4\n",
      "5\n",
      "6\n",
      "7\n",
      "8\n",
      "9\n",
      "10\n"
     ]
    }
   ],
   "source": [
    "# 1\n",
    "listaNr = ['1','2','3','4','5','6','7','8','9','10']\n",
    "for Nr in listaNr :\n",
    "    print(Nr)"
   ]
  },
  {
   "cell_type": "code",
   "execution_count": null,
   "metadata": {},
   "outputs": [
    {
     "name": "stdout",
     "output_type": "stream",
     "text": [
      "Arthur\n",
      "Ricardo\n",
      "Marcos\n"
     ]
    }
   ],
   "source": [
    "# 2\n",
    "listaAmg = ['Arthur', 'Ricardo', 'Marcos']\n",
    "for Amg in listaAmg :\n",
    "    print(Amg)"
   ]
  },
  {
   "cell_type": "code",
   "execution_count": null,
   "metadata": {},
   "outputs": [
    {
     "name": "stdout",
     "output_type": "stream",
     "text": [
      "janeiro\n",
      "junho\n",
      "julho\n"
     ]
    }
   ],
   "source": [
    "# 3 \n",
    "listaMes = ['janeiro', 'fevereiro', 'março', 'abril', 'maio', 'junho', 'julho', 'agosto', 'setembro', 'outubro', 'novembro', 'dezembro']\n",
    "for mes in listaMes :\n",
    "    if mes[0] == 'j' :\n",
    "        print(mes)\n"
   ]
  },
  {
   "cell_type": "code",
   "execution_count": null,
   "metadata": {},
   "outputs": [
    {
     "name": "stdout",
     "output_type": "stream",
     "text": [
      "GATO\n",
      "PEIXE\n",
      "CACHORRO\n",
      "PASSARO\n",
      "PEIXE\n"
     ]
    }
   ],
   "source": [
    "# 4 \n",
    "listaAn = ['gato', 'peixe', 'cachorro', 'passaro', 'peixe']\n",
    "for animais in listaAn :\n",
    "    print (animais.upper())\n",
    "   # print(animal.capitalize()) -> Deixa a primeira letra Maiuscula  "
   ]
  },
  {
   "cell_type": "code",
   "execution_count": 53,
   "metadata": {},
   "outputs": [
    {
     "name": "stdout",
     "output_type": "stream",
     "text": [
      "o seu numero é 51 e seu dobro é 102\n",
      "o seu numero é 25 e seu dobro é 50\n",
      "o seu numero é 78 e seu dobro é 156\n",
      "o seu numero é 64 e seu dobro é 128\n",
      "o seu numero é 80 e seu dobro é 160\n",
      "o seu numero é 38 e seu dobro é 76\n"
     ]
    }
   ],
   "source": [
    "# 5 \n",
    "import random\n",
    "for nums in range (6) :\n",
    "    nrS = random.randint(1, 100) \n",
    "    print(f'o seu numero é {nrS} e seu dobro é {nrS*2}') \n"
   ]
  },
  {
   "cell_type": "code",
   "execution_count": 22,
   "metadata": {},
   "outputs": [
    {
     "name": "stdout",
     "output_type": "stream",
     "text": [
      "O maior numero é 70 e o menor é 10\n",
      "2 54\n",
      "70\n",
      "10\n"
     ]
    }
   ],
   "source": [
    "# 6 \n",
    "listaNr = [10,70,30]\n",
    "listaNr.sort ()\n",
    "print(f'O maior numero é {listaNr[-1]} e o menor é {listaNr[0]}')\n",
    "\n",
    "# Outra maneira\n",
    "listaNrs = [10, 2, 43, 54, 25]\n",
    "menorNr = 1000000000000000\n",
    "maiorNr = 0\n",
    "for nrAtual in listaNrs :\n",
    "    if nrAtual > maiorNr :\n",
    "        maiorNr = nrAtual\n",
    "    if nrAtual < menorNr :\n",
    "        menorNr = nrAtual\n",
    "print(menorNr, maiorNr)\n",
    "\n",
    "\n",
    "\n",
    "#utilizando as funções prontas do python \n",
    "print(max(listaNr))\n",
    "print(min(listaNr))\n"
   ]
  },
  {
   "cell_type": "code",
   "execution_count": 48,
   "metadata": {},
   "outputs": [
    {
     "name": "stdout",
     "output_type": "stream",
     "text": [
      "A palavra Arthur tem 2 vogais\n"
     ]
    }
   ],
   "source": [
    "# 7\n",
    "palavra = input('Escreva uma palavra')\n",
    "vogais = [ 'a', 'e', 'i', 'o', 'u']\n",
    "qtvogais = 0\n",
    "for letra in palavra :\n",
    "    if letra.lower() in vogais :\n",
    "        qtvogais = qtvogais + 1\n",
    "print(f'A palavra {palavra} tem {qtvogais} vogais')\n",
    "\n"
   ]
  },
  {
   "cell_type": "code",
   "execution_count": 2,
   "metadata": {},
   "outputs": [
    {
     "name": "stdout",
     "output_type": "stream",
     "text": [
      "Gol\n",
      "Corsa\n",
      "Palipo\n",
      "Monza\n",
      "Fusca\n"
     ]
    }
   ],
   "source": [
    "# 8 Nessa string ‘Gol;Corsa;Palio;Monza;Fusca;’, faça a separação desses itens para uma lista e exiba o item e a posição que ele está\n",
    "listaCars = 'Gol,Corsa,Palipo,Monza,Fusca'\n",
    "cars = listaCars.split(',')\n",
    "for listaCars in cars :\n",
    "    print(listaCars)\n"
   ]
  }
 ],
 "metadata": {
  "kernelspec": {
   "display_name": "Python 3",
   "language": "python",
   "name": "python3"
  },
  "language_info": {
   "codemirror_mode": {
    "name": "ipython",
    "version": 3
   },
   "file_extension": ".py",
   "mimetype": "text/x-python",
   "name": "python",
   "nbconvert_exporter": "python",
   "pygments_lexer": "ipython3",
   "version": "3.12.3"
  }
 },
 "nbformat": 4,
 "nbformat_minor": 2
}
