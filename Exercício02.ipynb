{
 "cells": [
  {
   "cell_type": "code",
   "execution_count": 1,
   "metadata": {},
   "outputs": [
    {
     "name": "stdout",
     "output_type": "stream",
     "text": [
      "Aprovado\n"
     ]
    }
   ],
   "source": [
    "#1\n",
    "nota1 = float(input('digite sua n'))\n",
    "nota2 = float(input('digite sua n'))\n",
    "media = ((nota1 + nota2) / 2)\n",
    "if media >= 7 :\n",
    "    print ('Aprovado')\n",
    "else :\n",
    "    print ('Reprovado')"
   ]
  },
  {
   "cell_type": "code",
   "execution_count": 6,
   "metadata": {},
   "outputs": [
    {
     "name": "stdout",
     "output_type": "stream",
     "text": [
      " Os números são iguais.\n"
     ]
    }
   ],
   "source": [
    "#2\n",
    "num1 = float(input('digite o n1'))\n",
    "num2 = float(input('digite o n2'))\n",
    "if num1 > num2 :\n",
    "    print ('Numero 1 é maior do que o Numero 2.')\n",
    "elif num1 == num2 :\n",
    "    print (' Os números são iguais.')\n",
    "else :\n",
    "    print ('Numero 2 é maior do que o Numero 1.')"
   ]
  },
  {
   "cell_type": "code",
   "execution_count": 4,
   "metadata": {},
   "outputs": [
    {
     "name": "stdout",
     "output_type": "stream",
     "text": [
      "É impar\n"
     ]
    }
   ],
   "source": [
    "#3\n",
    "num_ImparPar = float(input('digite sua n'))\n",
    "if num_ImparPar % 2 == 0 :\n",
    "    print (' É par')\n",
    "else :\n",
    "    print ('É impar')"
   ]
  },
  {
   "cell_type": "code",
   "execution_count": 7,
   "metadata": {},
   "outputs": [
    {
     "name": "stdout",
     "output_type": "stream",
     "text": [
      "O número Negativo\n"
     ]
    }
   ],
   "source": [
    "#4\n",
    "num_inteiro = float(input('digite sua n'))\n",
    "if num_inteiro > 0 :\n",
    "    print ('O número positivo')\n",
    "else :\n",
    "    print ('O número Negativo')"
   ]
  },
  {
   "cell_type": "code",
   "execution_count": 2,
   "metadata": {},
   "outputs": [
    {
     "name": "stdout",
     "output_type": "stream",
     "text": [
      "Maior de idade, recente\n"
     ]
    }
   ],
   "source": [
    "#5\n",
    "idade = float(input('digite seu ano de nascimento'))\n",
    "idade1 = 2024 - idade  \n",
    "if idade1 >= 18 :\n",
    "    print ('Maior de idade')\n",
    "else :\n",
    "    print ('Menor de idade')"
   ]
  },
  {
   "cell_type": "code",
   "execution_count": 13,
   "metadata": {},
   "outputs": [
    {
     "name": "stdout",
     "output_type": "stream",
     "text": [
      " São diferentes\n"
     ]
    }
   ],
   "source": [
    "#6\n",
    "num_int1 = float(input('digite seu n'))\n",
    "num_int2 = float(input('digite seu n'))\n",
    "if num_int1 == num_int2 :\n",
    "    print (' São iguais')\n",
    "else :\n",
    "    print (' São diferentes')"
   ]
  },
  {
   "cell_type": "code",
   "execution_count": 3,
   "metadata": {},
   "outputs": [
    {
     "name": "stdout",
     "output_type": "stream",
     "text": [
      " Vc foi multado, terá que pagar 280.0.\n"
     ]
    }
   ],
   "source": [
    "#7\n",
    "velocidade = float(input('digite seu n'))\n",
    "if velocidade < 80 :\n",
    "    print ('Tudo nos conformes')\n",
    "else :\n",
    "    multa = (velocidade - 80) * 7\n",
    "    print (f' Vc foi multado, terá que pagar {multa}.')\n",
    "\n",
    "#Outra forma de fazer\n",
    "velocidade = float(input('digite seu n'))\n",
    "if velocidade > 80 :\n",
    "    multa = (velocidade - 80) * 7\n",
    "    print (f' Vc foi multado, terá que pagar {multa}.')"
   ]
  },
  {
   "cell_type": "code",
   "execution_count": null,
   "metadata": {},
   "outputs": [],
   "source": [
    "#8\n",
    "preco_prod = float(input('digite seu n'))\n",
    "if preco_prod <= 100 :\n",
    "    print (preco_prod)\n",
    "else :\n",
    "    desconto = (10 * (preco_prod / 100))\n",
    "    print ( preco_prod - desconto)\n"
   ]
  },
  {
   "cell_type": "code",
   "execution_count": 10,
   "metadata": {},
   "outputs": [
    {
     "name": "stdout",
     "output_type": "stream",
     "text": [
      " É triângulo\n"
     ]
    }
   ],
   "source": [
    "#9\n",
    "lad1 = float(input('digite seu lad1')) \n",
    "lad2 = float(input('digite seu lad2')) \n",
    "lad3 = float(input('digite seu lad3')) \n",
    "if lad1 + lad2 > lad3 : \n",
    "    if lad1 + lad3 > lad2 : \n",
    "        if lad2 + lad3 > lad1 :\n",
    "            print (' É triângulo')\n",
    "else :\n",
    "    print (' Não triângulo')\n",
    "\n",
    "\n",
    "\n"
   ]
  },
  {
   "cell_type": "code",
   "execution_count": 8,
   "metadata": {},
   "outputs": [
    {
     "name": "stdout",
     "output_type": "stream",
     "text": [
      "O valor da var1 é 20.0 e da var2 é 10.0\n"
     ]
    }
   ],
   "source": [
    "#10 \n",
    "\n",
    "var1 = float(input('digite seu var1')) \n",
    "var2 = float(input('digite seu var2'))\n",
    "var_1 = (var1 - var1) + var2\n",
    "var2 = (var2 - var2) + var1\n",
    "print (f'O valor da var1 é {var_1} e da var2 é {var2}')\n",
    "\n"
   ]
  },
  {
   "cell_type": "code",
   "execution_count": null,
   "metadata": {},
   "outputs": [],
   "source": [
    "#11\n",
    "\n",
    "var1 = float(input('digite seu var1')) \n",
    "var2 = float(input('digite seu var2'))\n",
    "var1 = (var1 - var1) + var2\n",
    "var2 = (var2 - var2) + var1\n",
    "print (f'O valor da var1 é {var1} e da var2 é {var2}')\n"
   ]
  },
  {
   "cell_type": "code",
   "execution_count": 3,
   "metadata": {},
   "outputs": [
    {
     "ename": "ValueError",
     "evalue": "could not convert string to float: ''",
     "output_type": "error",
     "traceback": [
      "\u001b[1;31m---------------------------------------------------------------------------\u001b[0m",
      "\u001b[1;31mValueError\u001b[0m                                Traceback (most recent call last)",
      "Cell \u001b[1;32mIn[3], line 1\u001b[0m\n\u001b[1;32m----> 1\u001b[0m preco_prod \u001b[38;5;241m=\u001b[39m \u001b[38;5;28;43mfloat\u001b[39;49m\u001b[43m(\u001b[49m\u001b[38;5;28;43minput\u001b[39;49m\u001b[43m(\u001b[49m\u001b[38;5;124;43m'\u001b[39;49m\u001b[38;5;124;43mdigite seu n\u001b[39;49m\u001b[38;5;124;43m'\u001b[39;49m\u001b[43m)\u001b[49m\u001b[43m)\u001b[49m\n\u001b[0;32m      2\u001b[0m \u001b[38;5;28;01mif\u001b[39;00m preco_prod \u001b[38;5;241m<\u001b[39m\u001b[38;5;241m=\u001b[39m \u001b[38;5;241m100\u001b[39m :\n\u001b[0;32m      3\u001b[0m     \u001b[38;5;28mprint\u001b[39m (preco_prod)\n",
      "\u001b[1;31mValueError\u001b[0m: could not convert string to float: ''"
     ]
    }
   ],
   "source": []
  }
 ],
 "metadata": {
  "kernelspec": {
   "display_name": "Python 3",
   "language": "python",
   "name": "python3"
  },
  "language_info": {
   "codemirror_mode": {
    "name": "ipython",
    "version": 3
   },
   "file_extension": ".py",
   "mimetype": "text/x-python",
   "name": "python",
   "nbconvert_exporter": "python",
   "pygments_lexer": "ipython3",
   "version": "3.12.3"
  }
 },
 "nbformat": 4,
 "nbformat_minor": 2
}
