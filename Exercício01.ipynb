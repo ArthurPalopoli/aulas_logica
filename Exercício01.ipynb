{
 "cells": [
  {
   "cell_type": "code",
   "execution_count": 6,
   "metadata": {},
   "outputs": [
    {
     "name": "stdout",
     "output_type": "stream",
     "text": [
      "<class 'float'>\n"
     ]
    }
   ],
   "source": [
    "#00 - Faça um programa que leia algo pelo teclado e mostre na tela o seu tipo primitivo.\n",
    "valor = input('Digite qualquer coisa.')\n",
    "print (type(22.0))\n",
    "\n"
   ]
  },
  {
   "cell_type": "code",
   "execution_count": null,
   "metadata": {},
   "outputs": [
    {
     "name": "stdout",
     "output_type": "stream",
     "text": [
      "O resultado é : 80.0\n"
     ]
    }
   ],
   "source": [
    "#01 - Crie um programa que leia dois números e mostre a soma entre eles.\n",
    "num1 = float(input('digite seu n'))\n",
    "num2 = float(input('digite seu n'))\n",
    "soma = num1 + num2\n",
    "print (f'O resultado é : {soma}')"
   ]
  },
  {
   "cell_type": "code",
   "execution_count": 4,
   "metadata": {},
   "outputs": [
    {
     "name": "stdout",
     "output_type": "stream",
     "text": [
      "(9.0, 11.0), antecessor e sucessor, respectivamente\n"
     ]
    }
   ],
   "source": [
    "#02 - Crie um programa que leia um número inteiro e mostre natela o seu sucessor e antecessor.\n",
    "N_inteiro = float(input('digite seu n'))\n",
    "Antecessor = (N_inteiro - 1)\n",
    "Sucessor = ( N_inteiro + 1)\n",
    "N_inteiro = Antecessor, Sucessor\n",
    "print (f'{N_inteiro}, antecessor e sucessor, respectivamente.')"
   ]
  },
  {
   "cell_type": "code",
   "execution_count": 20,
   "metadata": {},
   "outputs": [
    {
     "name": "stdout",
     "output_type": "stream",
     "text": [
      "(20.0, 30.0, (1.0, 5)), respectivamente\n"
     ]
    }
   ],
   "source": [
    "#03 - Crie um programa que leia um número e mostre o seu dobro, triplo e raiz quadrada.\n",
    "numero = float(input('digite sua num'))\n",
    "dobro = (numero * 2)\n",
    "triplo = (numero * 3)\n",
    "raiz = (numero ** 0,5)\n",
    "results = dobro, triplo, raiz\n",
    "print (f'{results}, o dobro, o triplo e a raiz desse número, respectivamente')\n"
   ]
  },
  {
   "cell_type": "code",
   "execution_count": 4,
   "metadata": {},
   "outputs": [
    {
     "name": "stdout",
     "output_type": "stream",
     "text": [
      "10.0\n"
     ]
    }
   ],
   "source": [
    "#04 - Crie um programa que leia duas notas de um aluno, calcule e mostre sua média.\n",
    "nota1 = float(input('digite sua n'))\n",
    "nota2 =float(input('digite sua n'))\n",
    "media = ((nota1 + nota2) / 2)\n",
    "print (media)\n"
   ]
  },
  {
   "cell_type": "code",
   "execution_count": 8,
   "metadata": {},
   "outputs": [
    {
     "name": "stdout",
     "output_type": "stream",
     "text": [
      "(500.0, 5000.0), centimetros e milimetros, respectivamente\n"
     ]
    }
   ],
   "source": [
    "#05 - Crie um programa que leia o valor em metros e o exiba convertido em centímetros e milímetros.\n",
    "metro = float(input('digite sua medida'))\n",
    "centi = (metro * 100)\n",
    "mili = (metro * 1000)\n",
    "resul = centi, mili\n",
    "print (f'{resul}, centimetros e milimetros, respectivamente')"
   ]
  },
  {
   "cell_type": "code",
   "execution_count": 1,
   "metadata": {},
   "outputs": [
    {
     "name": "stdout",
     "output_type": "stream",
     "text": [
      "5.0 x 1 = 5.0\n",
      "5.0 x 2 = 10.0\n",
      "5.0 x 3 = 15.0\n",
      "5.0 x 4 = 20.0\n",
      "5.0 x 5 = 25.0\n",
      "5.0 x 6 = 30.0\n",
      "5.0 x 7 = 35.0\n",
      "5.0 x 8 = 40.0\n",
      "5.0 x 9 = 45.0\n",
      "5.0 x 10 = 50.0\n"
     ]
    }
   ],
   "source": [
    "#06 - Crie um programa que leia um numero qualquer e mostre na tela a sua tabuada.\n",
    "n = float(input('digite sua n'))\n",
    "print(f'{n} x 1 = {n*1}')\n",
    "print(f'{n} x 2 = {n*2}')\n",
    "print(f'{n} x 3 = {n*3}')\n",
    "print(f'{n} x 4 = {n*4}')\n",
    "print(f'{n} x 5 = {n*5}')\n",
    "print(f'{n} x 6 = {n*6}')\n",
    "print(f'{n} x 7 = {n*7}')\n",
    "print(f'{n} x 8 = {n*8}')\n",
    "print(f'{n} x 9 = {n*9}')\n",
    "print(f'{n} x 10 = {n*10}')"
   ]
  },
  {
   "cell_type": "code",
   "execution_count": 9,
   "metadata": {},
   "outputs": [
    {
     "name": "stdout",
     "output_type": "stream",
     "text": [
      "vc tem 100.0 R$, vc poderia ter 20.0 dólares\n"
     ]
    }
   ],
   "source": [
    "#07 - Crie um programa que leia quanto dinheiro a pessoa tem na carteira e mostre quantos dólares ela pode contar.\n",
    "carteira = float(input('digite sua n'))\n",
    "dolar = carteira / 5\n",
    "print (f'vc tem {carteira} R$, vc poderia ter {dolar} dólares')\n"
   ]
  },
  {
   "cell_type": "code",
   "execution_count": 2,
   "metadata": {},
   "outputs": [
    {
     "name": "stdout",
     "output_type": "stream",
     "text": [
      "A área total da parede é de 15.0, e será necessário 7.5 litros de tinta para pinta-lo.\n"
     ]
    }
   ],
   "source": [
    "#08 - Crie um programa que leia a largura e a altura de uma parede em metros, calcule a sua área e a quantidade de tinta necessária para pintá-lo, sabendo que cada litro de tinta pinta uma área de 2m2.\n",
    "Largura = float(input('digite a largura da parede'))\n",
    "Altura = float(input('digite a altura da parede'))\n",
    "Area = (Largura * Altura)\n",
    "Tinta = (Area/2)\n",
    "print (f'A área total da parede é de {Area}m², e será necessário {Tinta} litros de tinta para pinta-lo.')\n"
   ]
  },
  {
   "cell_type": "code",
   "execution_count": 27,
   "metadata": {},
   "outputs": [
    {
     "name": "stdout",
     "output_type": "stream",
     "text": [
      "vc paga apenas 95.0 reais com o descosnto\n"
     ]
    }
   ],
   "source": [
    "#09 - Faça um algoritmo que leia o preço do produto e mostre seu novo preço com 5% de desconto.\n",
    "preco = float(input('digite sua n'))\n",
    "desconto = preco / 20\n",
    "preco = preco - desconto\n",
    "print (f'vc paga apenas {preco} reais com o desconto')"
   ]
  },
  {
   "cell_type": "code",
   "execution_count": 10,
   "metadata": {},
   "outputs": [
    {
     "name": "stdout",
     "output_type": "stream",
     "text": [
      "vc paga apenas 115.0 reais\n"
     ]
    }
   ],
   "source": [
    "#10 - Faça um algoritmo que leia o salário do funcionário e mostre seu novo salário com 15% de aumento\n",
    "salar = float(input('digite sua n'))\n",
    "novo = salar + ( 15 * (salar/ 100))\n",
    "salar = novo\n",
    "print (f'vc paga apenas {salar} reais')"
   ]
  },
  {
   "cell_type": "code",
   "execution_count": 11,
   "metadata": {},
   "outputs": [
    {
     "name": "stdout",
     "output_type": "stream",
     "text": [
      "A temperatura é de 40.0 graus celsius, convertendo em Farenheit fica 104.0. \n"
     ]
    }
   ],
   "source": [
    "#11 - Faça um algoritmo que receba um valor em graus Celsius e converta para farenheit.\n",
    "Celsius = float(input('digite sua n'))\n",
    "Farenheit = (Celsius * 1.8 + 32)\n",
    "print (f'A temperatura é de {Celsius} graus celsius, convertendo em Farenheit fica {Farenheit}. ')"
   ]
  },
  {
   "cell_type": "code",
   "execution_count": 12,
   "metadata": {},
   "outputs": [
    {
     "name": "stdout",
     "output_type": "stream",
     "text": [
      "O preço total a pagar é de 138.0 reais.\n"
     ]
    }
   ],
   "source": [
    "#12 - Faça um algoritmo que pergunte a quantidade de km percorridos por um carro alugado e a quantidade de dias pelos quais ele foi alugado. Calcule o preço a pagar, sabendo que o carro custa R$60 por dia e R$0.15 por km rodado.\n",
    "Km = float(input('digite sua n'))\n",
    "Dias = float(input('digite sua n'))\n",
    "Preço_a_pagar = ((Km * 0.15) + (Dias * 60))\n",
    "print (f'O preço total a pagar é de {Preço_a_pagar} reais.')\n"
   ]
  }
 ],
 "metadata": {
  "kernelspec": {
   "display_name": "Python 3",
   "language": "python",
   "name": "python3"
  },
  "language_info": {
   "codemirror_mode": {
    "name": "ipython",
    "version": 3
   },
   "file_extension": ".py",
   "mimetype": "text/x-python",
   "name": "python",
   "nbconvert_exporter": "python",
   "pygments_lexer": "ipython3",
   "version": "3.12.3"
  }
 },
 "nbformat": 4,
 "nbformat_minor": 2
}
