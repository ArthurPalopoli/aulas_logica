{
 "cells": [
  {
   "cell_type": "code",
   "execution_count": 3,
   "metadata": {},
   "outputs": [
    {
     "name": "stdout",
     "output_type": "stream",
     "text": [
      "Número inválido\n"
     ]
    }
   ],
   "source": [
    "#1\n",
    "N_dia = int(input('Digite o valor 1'))\n",
    "match N_dia :\n",
    "    case 1 :\n",
    "        print ('Domingo')\n",
    "    case 2 :\n",
    "        print ('Segunda')\n",
    "    case 3 :\n",
    "        print ('Terça')\n",
    "    case 4 :\n",
    "        print ('Quarta')\n",
    "    case 5 :\n",
    "        print ('Quinta')\n",
    "    case 6 :\n",
    "        print ('Sexta')\n",
    "    case 7 :\n",
    "        print ('Sábado')\n",
    "    case _:\n",
    "        print ('Número inválido')\n"
   ]
  },
  {
   "cell_type": "code",
   "execution_count": 28,
   "metadata": {},
   "outputs": [
    {
     "name": "stdout",
     "output_type": "stream",
     "text": [
      "Faixa etária: Adulto.\n"
     ]
    }
   ],
   "source": [
    "#2\n",
    "atual = int(input('Digite o ano atual'))\n",
    "nasc = int(input('Digite o ano de nascimento'))\n",
    "idade = (atual - nasc)\n",
    "if idade <= 10 :\n",
    "    print ('Faixa etária: Criança.')\n",
    "if idade > 10 and idade < 18 :\n",
    "    print ('Faixa etária: Adolescente.')\n",
    "if idade > 17 and idade < 60 :\n",
    "    print ('Faixa etária: Adulto.')\n",
    "if idade > 59 :\n",
    "    print ('Faixa etária: Idoso.')\n"
   ]
  },
  {
   "cell_type": "code",
   "execution_count": 32,
   "metadata": {},
   "outputs": [
    {
     "name": "stdout",
     "output_type": "stream",
     "text": [
      "Tem 30 dias.\n"
     ]
    }
   ],
   "source": [
    "#3\n",
    "mes = (input('Digite o mês'))\n",
    "match mes :\n",
    "    case 'janeiro' :\n",
    "        print ('Tem 31 dias.')\n",
    "    case 'fevereiro' :\n",
    "        print ('Tem 28 dias.')\n",
    "    case 'março' :\n",
    "        print ('Tem 31 dias.')\n",
    "    case 'abril' :\n",
    "        print ('Tem 30 dias.')\n",
    "    case 'maio' :\n",
    "        print ('Tem 31 dias.')\n",
    "    case 'junho' :\n",
    "        print ('Tem 30 dias.')\n",
    "    case 'julho' :\n",
    "        print ('Tem 31 dias.')\n",
    "    case 'agosto' :\n",
    "        print ('Tem 31 dias.')\n",
    "    case 'setembro' :\n",
    "        print ('Tem 30 dias.')\n",
    "    case 'outubro' :\n",
    "        print ('Tem 31 dias.')\n",
    "    case 'novembro' :\n",
    "        print ('Tem 30 dias.')\n",
    "    case 'dezembro' :\n",
    "        print ('Tem 31 dias.')"
   ]
  },
  {
   "cell_type": "code",
   "execution_count": 36,
   "metadata": {},
   "outputs": [
    {
     "name": "stdout",
     "output_type": "stream",
     "text": [
      "Aprovado\n"
     ]
    }
   ],
   "source": [
    "#4\n",
    "nota1 = float(input('Digite a nota 1'))\n",
    "nota2 = float(input('Digite a nota 2'))\n",
    "media = (nota1 + nota2) / 2\n",
    "if media >= 7 :\n",
    "    print ('Aprovado')\n",
    "if media > 4 and media < 7 :\n",
    "    print ('Recuperação')\n",
    "if media < 5 :\n",
    "    print ('Reprovado')\n"
   ]
  },
  {
   "cell_type": "code",
   "execution_count": null,
   "metadata": {},
   "outputs": [
    {
     "name": "stdout",
     "output_type": "stream",
     "text": [
      "Seu salário é de 5400.0 reais \n"
     ]
    }
   ],
   "source": [
    "#5\n",
    "sa = float(input('Digite a nota 1'))\n",
    "if sa <= 2000 :\n",
    "    aumen = (sa / 100) * 12\n",
    "    print (f'Seu salário é de {aumen + sa} reais ')\n",
    "if sa > 2000 and sa <= 4000 :\n",
    "    aumen = (sa / 100) * 10\n",
    "    print (f'Seu salário é de {aumen + sa} reais ')\n",
    "if sa > 4000 :\n",
    "    aumen = (sa / 100) * 8\n",
    "    print (f'Seu salário é de {aumen + sa} reais ')"
   ]
  },
  {
   "cell_type": "code",
   "execution_count": 7,
   "metadata": {},
   "outputs": [
    {
     "ename": "ValueError",
     "evalue": "could not convert string to float: ''",
     "output_type": "error",
     "traceback": [
      "\u001b[1;31m---------------------------------------------------------------------------\u001b[0m",
      "\u001b[1;31mValueError\u001b[0m                                Traceback (most recent call last)",
      "Cell \u001b[1;32mIn[7], line 2\u001b[0m\n\u001b[0;32m      1\u001b[0m \u001b[38;5;66;03m#Desafio1 (Tabelas juntas)\u001b[39;00m\n\u001b[1;32m----> 2\u001b[0m salario \u001b[38;5;241m=\u001b[39m \u001b[38;5;28;43mfloat\u001b[39;49m\u001b[43m \u001b[49m\u001b[43m(\u001b[49m\u001b[38;5;28;43minput\u001b[39;49m\u001b[43m \u001b[49m\u001b[43m(\u001b[49m\u001b[38;5;124;43m\"\u001b[39;49m\u001b[38;5;124;43mDigite o salário:\u001b[39;49m\u001b[38;5;124;43m\"\u001b[39;49m\u001b[43m)\u001b[49m\u001b[43m)\u001b[49m\n\u001b[0;32m      3\u001b[0m \u001b[38;5;28;01mif\u001b[39;00m salario \u001b[38;5;241m<\u001b[39m\u001b[38;5;241m=\u001b[39m \u001b[38;5;241m2259\u001b[39m :\n\u001b[0;32m      4\u001b[0m     descontoirpf \u001b[38;5;241m=\u001b[39m \u001b[38;5;241m0\u001b[39m\n",
      "\u001b[1;31mValueError\u001b[0m: could not convert string to float: ''"
     ]
    }
   ],
   "source": [
    "#Desafio1 (Tabelas juntas)\n",
    "salario = float (input (\"Digite o salário:\"))\n",
    "if salario <= 2259 :\n",
    "    descontoirpf = 0\n",
    "elif salario <= 2826.65 :\n",
    "    descontoirpf = salario * 0.075  \n",
    "elif salario <= 3751.05 :\n",
    "    descontoirpf = salario * 0.15  \n",
    "elif salario <= 4664.68 :\n",
    "    descontoirpf = salario * 0.225 \n",
    "else :\n",
    "    descontoirpf = salario * 0.275 \n",
    "\n",
    "#Considerando a tabela de INSS\n",
    "if salario <= 1412 :\n",
    "    descontoinss = salario * 0.075 \n",
    "elif salario <= 2666.68 :\n",
    "    descontoinss = salario * 0.09\n",
    "elif salario <= 4000.03 :\n",
    "    descontoinss = salario * 0.12 \n",
    "elif salario <= 7786.02 :\n",
    "    descontoinss = salario * 0.14\n",
    "else :\n",
    "    descontoinss = 908.85\n",
    "\n",
    "salarioliquido = salario - descontoirpf - descontoinss\n",
    "print (f' Seu salário líquido será: R$ {salarioliquido: .2f}')\n"
   ]
  },
  {
   "cell_type": "code",
   "execution_count": 12,
   "metadata": {},
   "outputs": [
    {
     "name": "stdout",
     "output_type": "stream",
     "text": [
      "Seu salário será de 925.0 reais\n"
     ]
    }
   ],
   "source": [
    "#Desafio1 - TABELA 1\n",
    "sal= float(input('Digite seu salário'))\n",
    "if sal <= 1412.00:\n",
    "    INSS = (sal / 100) * 7.5\n",
    "    print (f'Seu salário será de {sal- INSS} reais')\n",
    "\n",
    "if sal > 1412.00 and sal <= 2666.68:\n",
    "    INSS = (sal / 100) * 9\n",
    "    print (f'Seu salário será de {sal - INSS} reais')\n",
    "\n",
    "if sal > 2666.68 and sal <= 4000.03 :\n",
    "    INSS = (sal / 100) * 12\n",
    "    print (f'Seu salário será de {sal - INSS} reais')\n",
    "\n",
    "if sal > 4000.03 and sal <= 7786.02:\n",
    "    INSS = (sal / 100) * 14\n",
    "    print (f'Seu salário será de {sal - INSS} reais')\n",
    "\n",
    "if sal > 7786.02:\n",
    "    INSS = 908.08\n",
    "    print (f'Seu salário será de {sal - INSS} reais')"
   ]
  },
  {
   "cell_type": "code",
   "execution_count": 7,
   "metadata": {},
   "outputs": [],
   "source": [
    "#Desafio2 - TABELA 1\n",
    "sal = float(input('Digite seu salário'))\n",
    "if sal <= 2259.20:\n",
    "    IRPF = 0\n",
    "    print (f'Seu salário será de {sal- IRPF} reais')\n",
    "\n",
    "if sal > 2259.20 and sal <= 2826.65:\n",
    "    IRPF = (sal / 100) * 7.5\n",
    "    print (f'Seu salário será de {sal - IRPF} reais')\n",
    "\n",
    "if sal > 2826.65 and sal <= 3751.05 :\n",
    "    IRPF = (sal / 100) * 15\n",
    "    print (f'Seu salário será de {sal - IRPF} reais')\n",
    "\n",
    "if sal > 3751.05 and sal <= 4664.68:\n",
    "    IRPF = (sal / 100) * 22.5\n",
    "    print (f'Seu salário será de {sal - IRPF} reais')\n",
    "\n",
    "if sal > 4664.68:\n",
    "    IRPF = (sal / 100) * 27.5\n",
    "    print (f'Seu salário será de {sal - IRPF} reais')\n"
   ]
  },
  {
   "cell_type": "code",
   "execution_count": null,
   "metadata": {},
   "outputs": [],
   "source": [
    "#Desafio2 - TABELA 2\n",
    "al= float(input('Digite seu salário'))\n",
    "if sal <= 1412.00:\n",
    "    INSS = (sal / 100) * 7.5\n",
    "    print (f'Seu salário será de {sal- INSS} reais')\n",
    "\n",
    "if sal > 1412.00 and sal <= 2666.68:\n",
    "    INSS = ((sal / 100) * 91) \n",
    "    diff = sal - 1412.00 \n",
    "    print (f'Seu salário será de { - INSS} reais')\n",
    "\n",
    "if sal > 2666.68 and sal <= 4000.03 :\n",
    "    INSS = (sal / 100) * 12\n",
    "    print (f'Seu salário será de {sal - INSS} reais')\n",
    "\n",
    "if sal > 4000.03 and sal <= 7786.02:\n",
    "    INSS = (sal / 100) * 14\n",
    "    print (f'Seu salário será de {sal - INSS} reais')\n",
    "\n",
    "if sal > 7786.02:\n",
    "    INSS = 908.08\n",
    "    print (f'Seu salário será de {sal - INSS} reais')"
   ]
  }
 ],
 "metadata": {
  "kernelspec": {
   "display_name": "Python 3",
   "language": "python",
   "name": "python3"
  },
  "language_info": {
   "codemirror_mode": {
    "name": "ipython",
    "version": 3
   },
   "file_extension": ".py",
   "mimetype": "text/x-python",
   "name": "python",
   "nbconvert_exporter": "python",
   "pygments_lexer": "ipython3",
   "version": "3.12.3"
  }
 },
 "nbformat": 4,
 "nbformat_minor": 2
}
