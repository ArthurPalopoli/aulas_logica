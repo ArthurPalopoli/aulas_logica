{
 "cells": [
  {
   "cell_type": "markdown",
   "metadata": {},
   "source": [
    "Atividade 1"
   ]
  },
  {
   "cell_type": "code",
   "execution_count": 2,
   "metadata": {},
   "outputs": [
    {
     "name": "stdout",
     "output_type": "stream",
     "text": [
      "**************************************************\n",
      "Boas Vindas!\n",
      "**************************************************\n",
      "**************************************************\n",
      "Boas Vindas!\n",
      "**************************************************\n",
      "**************************************************\n",
      "Boas Vindas!\n",
      "**************************************************\n",
      "**************************************************\n",
      "Boas Vindas!\n",
      "**************************************************\n"
     ]
    }
   ],
   "source": [
    "\n",
    "def SemPar () :\n",
    "    print('*'*50)\n",
    "    print('Boas Vindas!')\n",
    "    \n",
    "\n",
    "for i in range (4):\n",
    "    SemPar ()"
   ]
  },
  {
   "cell_type": "markdown",
   "metadata": {},
   "source": [
    "Atividade 2"
   ]
  },
  {
   "cell_type": "code",
   "execution_count": 7,
   "metadata": {},
   "outputs": [
    {
     "name": "stdout",
     "output_type": "stream",
     "text": [
      "vermelho\n",
      "verde\n",
      "azul\n"
     ]
    }
   ],
   "source": [
    "def corPri () :\n",
    "    cores = [ 'vermelho','verde', 'azul']\n",
    "    for pos, lista in enumerate(cores) :\n",
    "        print(lista)\n",
    "\n",
    "corPri ()\n",
    "\n",
    "\n",
    "\n"
   ]
  },
  {
   "cell_type": "markdown",
   "metadata": {},
   "source": [
    "Atividade 3"
   ]
  },
  {
   "cell_type": "code",
   "execution_count": 9,
   "metadata": {},
   "outputs": [
    {
     "name": "stdout",
     "output_type": "stream",
     "text": [
      "5 x 0 = 0 \n",
      "5 x 1 = 5 \n",
      "5 x 2 = 10 \n",
      "5 x 3 = 15 \n",
      "5 x 4 = 20 \n",
      "5 x 5 = 25 \n",
      "5 x 6 = 30 \n",
      "5 x 7 = 35 \n",
      "5 x 8 = 40 \n",
      "5 x 9 = 45 \n",
      "5 x 10 = 50 \n"
     ]
    }
   ],
   "source": [
    "def tabu (n) :\n",
    "    for x in range (11) : \n",
    "        print(f'{n} x {x} = {n*x} ')\n",
    "\n",
    "tabu (5)\n",
    "\n",
    "    "
   ]
  },
  {
   "cell_type": "markdown",
   "metadata": {},
   "source": [
    "Atividade 4"
   ]
  },
  {
   "cell_type": "code",
   "execution_count": 25,
   "metadata": {},
   "outputs": [
    {
     "name": "stdout",
     "output_type": "stream",
     "text": [
      "1\n"
     ]
    }
   ],
   "source": [
    "def cal (n1, n2, operador) :\n",
    "    if operador == '*' :\n",
    "        print(n1*n2)\n",
    "    elif operador == '+':\n",
    "        print(n1+n2)\n",
    "    elif operador == '-' :\n",
    "        print(n1-n2)\n",
    "    elif operador == '/' :\n",
    "        print(n1/n2)\n",
    "    elif operador == '**' :\n",
    "        print(n1**n2)\n",
    "    elif operador == '%' :\n",
    "        print(n1%n2)\n",
    "    else :\n",
    "        print('Operador INVÁLIDO.')\n",
    "    \n",
    "cal(10, 3, '%')\n",
    "\n"
   ]
  },
  {
   "cell_type": "markdown",
   "metadata": {},
   "source": [
    "Atividade 5 - Crie uma função que gere uma senha aleatória, deve receber como parâmetro a quantidade\n",
    "de caracteres que terá a senha, crie uma lista com todos os caracteres disponíveis para a\n",
    "senha e com o random sorteie a qual de dígitos terá a senha"
   ]
  },
  {
   "cell_type": "code",
   "execution_count": 37,
   "metadata": {},
   "outputs": [
    {
     "name": "stdout",
     "output_type": "stream",
     "text": [
      "&C7!hygÇ\n"
     ]
    }
   ],
   "source": [
    "import random\n",
    "def sen (quantidade) :\n",
    "    list = 'qwertyuioasdfghjklçzxcvbnmQWERTYUIOPASDFGHJKLÇZXCVBNM1234567890!@#$%¨&*()'\n",
    "    senha = ''\n",
    "    for x in range(quantidade) :\n",
    "        caracter = random.choice(list)\n",
    "        senha = senha + caracter \n",
    "    return(senha)\n",
    "     \n",
    "    \n",
    "\n",
    "val = int(input('Digite tal number'))\n",
    "print(sen(val))\n",
    "\n",
    "\n"
   ]
  }
 ],
 "metadata": {
  "kernelspec": {
   "display_name": "Python 3",
   "language": "python",
   "name": "python3"
  },
  "language_info": {
   "codemirror_mode": {
    "name": "ipython",
    "version": 3
   },
   "file_extension": ".py",
   "mimetype": "text/x-python",
   "name": "python",
   "nbconvert_exporter": "python",
   "pygments_lexer": "ipython3",
   "version": "3.12.3"
  }
 },
 "nbformat": 4,
 "nbformat_minor": 2
}
