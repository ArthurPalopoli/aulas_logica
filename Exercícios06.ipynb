{
 "cells": [
  {
   "cell_type": "code",
   "execution_count": 26,
   "metadata": {},
   "outputs": [
    {
     "name": "stdout",
     "output_type": "stream",
     "text": [
      " Pânico\n",
      "[' Enigma do Medo ', 'O Enigma do Outro Mundo', 'Homem Aranha 2', 'O império contra ataca', ' Pânico', '007 - Skyfall', 'Guerra Infinita']\n",
      "[' Enigma do Medo ', 'O Enigma do Outro Mundo', 'Homem Aranha 2', 'O império contra ataca', ' Pânico', '007 - Skyfall', 'Guerra Infinita', ' Oppenheimer']\n",
      "[' Enigma do Medo ', 'O Enigma do Outro Mundo', 'Homem Aranha 2', 'O império contra ataca', ' Pânico', 'Coraline', '007 - Skyfall', 'Guerra Infinita', ' Oppenheimer']\n",
      "['O Enigma do Outro Mundo', 'Homem Aranha 2', 'O império contra ataca', ' Pânico', 'Coraline', '007 - Skyfall', 'Guerra Infinita', ' Oppenheimer']\n",
      "['O Enigma do Outro Mundo', 'Homem Aranha 2', 'O império contra ataca', ' Pânico', 'Coraline', '007 - Skyfall', 'Guerra Infinita']\n",
      "['O Enigma do Outro Mundo', 'Homem Aranha 2', 'O império contra ataca']\n",
      "[' Pânico', 'Coraline', '007 - Skyfall', 'Guerra Infinita']\n",
      "7\n",
      "['Guerra Infinita', '007 - Skyfall', 'Coraline', ' Pânico', 'O império contra ataca', 'Homem Aranha 2', 'O Enigma do Outro Mundo']\n"
     ]
    }
   ],
   "source": [
    "# Exercício 1\n",
    "#Exiba apenas o primeiro o filme da lista\n",
    "#• Exiba o filme da posição 4\n",
    "#• Substitua o filme da última posição e exiba a lista\n",
    "#• Insira um novo filme no final da lista e exiba a lista\n",
    "#  Insira um novo filme na posição 5 e exiba a lista\n",
    "#  Exclua o primeiro filme e exiba a lista\n",
    "#• Exclua o último filme e exiba a lista\n",
    "#• Exiba os 3 primeiros filmes da lista\n",
    "#• Exiba os 4 últimos filmes da lista\n",
    "#• Exiba a quantidade de filmes atualmente na lista\n",
    "#• Ordene os filmes em ordem decrescente e exiba-os\n",
    "\n",
    "Filmes = [ ' Enigma do Medo ','O Enigma do Outro Mundo', 'Homem Aranha 2', 'O império contra ataca', ' Pânico', '007 - Skyfall', 'Até Ultimo Homem']\n",
    "print(Filmes[4])\n",
    "\n",
    "Filmes [6] = 'Guerra Infinita'\n",
    "print(Filmes)\n",
    "\n",
    "Filmes.append(' Oppenheimer')\n",
    "print(Filmes)\n",
    "\n",
    "Filmes.insert(5, 'Coraline')\n",
    "print(Filmes)\n",
    "\n",
    "Filmes.pop(0)\n",
    "print(Filmes)\n",
    "\n",
    "Filmes.pop(7)\n",
    "print(Filmes)\n",
    "\n",
    "print(Filmes[0:3])\n",
    "\n",
    "print(Filmes[3:])\n",
    "\n",
    "print(len(Filmes))\n",
    "\n",
    "Filmes.reverse()\n",
    "print(Filmes)"
   ]
  },
  {
   "cell_type": "code",
   "execution_count": 34,
   "metadata": {},
   "outputs": [
    {
     "name": "stdout",
     "output_type": "stream",
     "text": [
      "O time Palmeiras é o Campeão\n",
      "Os times ('Palmeiras', 'Atlético-GO', 'Atlético-MG') Irão jogar a libertadores \n",
      "('Athletico-PR', 'São Paulo', 'Vasco', 'Vitória') estão rebaixados para a série B\n"
     ]
    }
   ],
   "source": [
    "# Exercício 2\n",
    "# Crie uma lista com os 20 times do campeonato brasileiro de futebol\n",
    "# • Exiba o primeiro time da lista como campeão\n",
    "# • Exiba os 4 primeiros times como que irão jogar a libertadores\n",
    "# • Exiba os 4 últimos times como os que estão rebaixados para a série B\n",
    "\n",
    "times = 'Palmeiras','Atlético-GO', 'Atlético-MG', 'Bahia', 'Botafogo', 'Bragantino','Corinthians', 'Criciúma', 'Cruzeiro', 'Cuiabá', 'Flamengo', 'Fluminense', 'Fortaleza', 'Grêmio', 'Internacional', 'Juventude', 'Athletico-PR', 'São Paulo', 'Vasco', 'Vitória'\n",
    "\n",
    "print(f'O time {times[0]} é o Campeão')\n",
    "\n",
    "print(f'Os times {times[0:3]} Irão jogar a libertadores ')\n",
    "\n",
    "print(f'{times[16:]} estão rebaixados para a série B')"
   ]
  },
  {
   "cell_type": "code",
   "execution_count": null,
   "metadata": {},
   "outputs": [],
   "source": [
    "# Exercício 3\n",
    "# Crie um programa que receba do usuário através do input 6 comidas e refaça todos os itens do exercício 1\n",
    "\n"
   ]
  }
 ],
 "metadata": {
  "kernelspec": {
   "display_name": "Python 3",
   "language": "python",
   "name": "python3"
  },
  "language_info": {
   "codemirror_mode": {
    "name": "ipython",
    "version": 3
   },
   "file_extension": ".py",
   "mimetype": "text/x-python",
   "name": "python",
   "nbconvert_exporter": "python",
   "pygments_lexer": "ipython3",
   "version": "3.12.3"
  }
 },
 "nbformat": 4,
 "nbformat_minor": 2
}
