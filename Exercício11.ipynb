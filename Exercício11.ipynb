{
 "cells": [
  {
   "cell_type": "markdown",
   "metadata": {},
   "source": [
    "Exercicio 1"
   ]
  },
  {
   "cell_type": "code",
   "execution_count": null,
   "metadata": {},
   "outputs": [],
   "source": [
    "print('Seja Bem Vindo ao SESI')"
   ]
  },
  {
   "cell_type": "markdown",
   "metadata": {},
   "source": [
    "Exercicio 2\n"
   ]
  },
  {
   "cell_type": "code",
   "execution_count": 1,
   "metadata": {},
   "outputs": [
    {
     "name": "stdout",
     "output_type": "stream",
     "text": [
      "O número digitado foi 10.0\n"
     ]
    }
   ],
   "source": [
    "num = float(input('Digite um número'))\n",
    "print(f'O número digitado foi {num}')"
   ]
  },
  {
   "cell_type": "markdown",
   "metadata": {},
   "source": [
    "Exercicio 3"
   ]
  },
  {
   "cell_type": "code",
   "execution_count": 6,
   "metadata": {},
   "outputs": [
    {
     "name": "stdout",
     "output_type": "stream",
     "text": [
      " A divisão entre eles é 25.0\n"
     ]
    }
   ],
   "source": [
    "num1 = int(input('Digite um número'))\n",
    "num2 = int(input('Digite um número'))\n",
    "print(f' A divisão entre eles é {num1 / num2}')"
   ]
  },
  {
   "cell_type": "markdown",
   "metadata": {},
   "source": [
    "Exercicio 4 - Faça um Programa que pergunte quanto você ganha por hora e o número de horas\n",
    "trabalhadas no mês. Calcule e mostre o total do seu salário no referido mês."
   ]
  },
  {
   "cell_type": "code",
   "execution_count": 4,
   "metadata": {},
   "outputs": [
    {
     "name": "stdout",
     "output_type": "stream",
     "text": [
      " Você ganha 12000.0 reais por mês. \n"
     ]
    }
   ],
   "source": [
    "ganHora = float(input('Digite um número'))\n",
    "numHora = float(input('Digite um número'))\n",
    "print(f' Você ganha {ganHora*numHora} reais por mês. ')"
   ]
  },
  {
   "cell_type": "markdown",
   "metadata": {},
   "source": [
    "Exercicio 5 - Faça um Programa que verifique se uma letra digitada é \"F\" ou \"M\". Conforme a letra\n",
    "escrever: F - Feminino, M - Masculino, Sexo Inválido."
   ]
  },
  {
   "cell_type": "code",
   "execution_count": 9,
   "metadata": {},
   "outputs": [
    {
     "name": "stdout",
     "output_type": "stream",
     "text": [
      "Sexo inválido\n"
     ]
    }
   ],
   "source": [
    "letra = input('Digite F ou M para definir seu sexo.')\n",
    "if letra == 'F':\n",
    "    print('Sexo feminino')\n",
    "elif letra == 'M':\n",
    "    print('Sexo masculino')\n",
    "else :\n",
    "    print('Sexo inválido')"
   ]
  },
  {
   "cell_type": "markdown",
   "metadata": {},
   "source": [
    "Exercicio 6 - Tendo como dado de entrada a altura (h) de uma pessoa e o sexo, construa um algoritmo\n",
    "que calcule seu peso ideal, utilizando as seguintes fórmulas:\n",
    "Para homens: (72.7 * altura) – 58 Para mulheres: (62.1 * altura) - 44.7"
   ]
  },
  {
   "cell_type": "code",
   "execution_count": 10,
   "metadata": {},
   "outputs": [
    {
     "name": "stdout",
     "output_type": "stream",
     "text": [
      " Seu peso ideal é 72.86000000000001\n"
     ]
    }
   ],
   "source": [
    "h = float(input('Digite sua altura'))\n",
    "s = input('Digite [F] se seu sexo for feminino ou [M] se for masculino')\n",
    "if s == 'M' :\n",
    "    print(f' Seu peso ideal é {(72.7*h) - 58 }')\n",
    "elif s == 'F' :\n",
    "    print(f' Seu peso ideal é {(62.1*h) - 44.7 }')\n",
    "else :\n",
    "    print('Sexo inválido')"
   ]
  },
  {
   "cell_type": "markdown",
   "metadata": {},
   "source": [
    "Exercicio 7 - Faça um Programa que pergunte quanto você ganha por hora e o número de horas\n",
    "trabalhadas no mês.\n",
    "Calcule e mostre o total do seu salário no referido mês, sabendo-se que são descontados\n",
    "11% para o Imposto de Renda, 8% para o INSS e 5% para o sindicato, faça um programa\n",
    "que nos dê: salário bruto. quanto pagou ao INSS. quanto pagou ao sindicato. o salário\n",
    "líquido. calcule os descontos e o salário líquido, conforme a tabela abaixo:\n",
    "+ Salário Bruto : R$\n",
    "- IR (11%) : R$\n",
    "- INSS (8%) : R$\n",
    "- Sindicato ( 5%) : R$\n",
    "= Salário Liquido : R$"
   ]
  },
  {
   "cell_type": "code",
   "execution_count": 4,
   "metadata": {},
   "outputs": [
    {
     "name": "stdout",
     "output_type": "stream",
     "text": [
      " Você ganha 7600.0 reais por mês. \n",
      "+ Salária Bruto : 10000.0 R$\n",
      "- IR (11%) : 1100.0 R$\n",
      "- INSS (8%) : 800.0 R$\n",
      "- Sindicato (5%) : 500.0 R$\n",
      "= Salário Liquido : 7600.0 R$\n"
     ]
    }
   ],
   "source": [
    "ganHora = float(input('Digite um número'))\n",
    "numHora = float(input('Digite um número'))\n",
    "salBruto = (ganHora*numHora)\n",
    "print( f'+ Salária Bruto : {salBruto} R$')\n",
    "print( f'- IR (11%) : {(salBruto / 100) * 11} R$')\n",
    "print( f'- INSS (8%) : {(salBruto / 100) * 8} R$')\n",
    "print( f'- Sindicato (5%) : {(salBruto / 100) * 5} R$')\n",
    "print( f'= Salário Liquido : {salBruto - (( salBruto / 100) * 24)} R$')\n",
    "\n"
   ]
  },
  {
   "cell_type": "markdown",
   "metadata": {},
   "source": [
    "Exercicio 8 - Faça uma função que peça um valor e mostre na tela se o valor é positivo ou negativo."
   ]
  },
  {
   "cell_type": "code",
   "execution_count": 7,
   "metadata": {},
   "outputs": [
    {
     "name": "stdout",
     "output_type": "stream",
     "text": [
      "O valor é negativo\n"
     ]
    }
   ],
   "source": [
    "def calc() :\n",
    "    valor = float(input('Digite um número'))\n",
    "    if valor >= 0 :\n",
    "        print(' O valor é positivo')\n",
    "    else :\n",
    "        print('O valor é negativo')\n",
    "\n",
    "calc()"
   ]
  },
  {
   "cell_type": "markdown",
   "metadata": {},
   "source": [
    "Exercicio 9 - Faça uma função que imprima na tela apenas os números ímpares entre 1 e 50."
   ]
  },
  {
   "cell_type": "code",
   "execution_count": 8,
   "metadata": {},
   "outputs": [
    {
     "name": "stdout",
     "output_type": "stream",
     "text": [
      "1\n",
      "3\n",
      "5\n",
      "7\n",
      "9\n",
      "11\n",
      "13\n",
      "15\n",
      "17\n",
      "19\n",
      "21\n",
      "23\n",
      "25\n",
      "27\n",
      "29\n",
      "31\n",
      "33\n",
      "35\n",
      "37\n",
      "39\n",
      "41\n",
      "43\n",
      "45\n",
      "47\n",
      "49\n"
     ]
    }
   ],
   "source": [
    "def impri() :\n",
    "    for nmrs in range (50) :\n",
    "        if nmrs % 2 != 0 :\n",
    "            print (nmrs)\n",
    "\n",
    "impri()"
   ]
  },
  {
   "cell_type": "markdown",
   "metadata": {},
   "source": [
    "Exercicio 10 - Faça uma função que receba dois números inteiros e gere os números inteiros que estão\n",
    "no intervalo compreendido por eles."
   ]
  },
  {
   "cell_type": "code",
   "execution_count": 2,
   "metadata": {},
   "outputs": [
    {
     "name": "stdout",
     "output_type": "stream",
     "text": [
      "10\n",
      "11\n",
      "12\n",
      "13\n",
      "14\n",
      "15\n",
      "16\n",
      "17\n",
      "18\n",
      "19\n"
     ]
    }
   ],
   "source": [
    "def func () :\n",
    "    n1 = int(input('Digite um número'))\n",
    "    n2 = int(input('Digite outro número'))\n",
    "    for x in range (n1, n2) :\n",
    "        print (x)\n",
    "\n",
    "func ()"
   ]
  },
  {
   "cell_type": "markdown",
   "metadata": {},
   "source": [
    "Exercicio 11 - Faça uma função que peça um número positivo e em seguida mostre este número invertido.\n",
    "Exemplo: 12376489 => 98467321"
   ]
  },
  {
   "cell_type": "code",
   "execution_count": 63,
   "metadata": {},
   "outputs": [
    {
     "name": "stdout",
     "output_type": "stream",
     "text": [
      "54321\n"
     ]
    }
   ],
   "source": [
    "def func () :\n",
    "    nums = input('Digite uma sequencia de numeros')\n",
    "    lista = ''\n",
    "    for num in nums :\n",
    "        lista = num + lista\n",
    "    print(lista)\n",
    "\n",
    "func()"
   ]
  },
  {
   "cell_type": "markdown",
   "metadata": {},
   "source": [
    "Exercicio 12 - Faça um Programa que leia um vetor A com 5 números inteiros, calcule e mostre a soma\n",
    "dos quadrados dos elementos do vetor."
   ]
  },
  {
   "cell_type": "code",
   "execution_count": 65,
   "metadata": {},
   "outputs": [
    {
     "name": "stdout",
     "output_type": "stream",
     "text": [
      "20\n"
     ]
    }
   ],
   "source": [
    "a = [ 2, 2, 2, 2, 2]\n",
    "soma = 0\n",
    "for nr in a :\n",
    "    soma = soma + (nr**2)\n",
    "print(soma)"
   ]
  },
  {
   "cell_type": "markdown",
   "metadata": {},
   "source": [
    "Exercicio 13 - Faça um Programa que leia 8 números inteiros e armazene-os num vetor. Armazene os\n",
    "números pares no vetor PAR e os números IMPARES no vetor impar. Imprima os três\n",
    "vetores."
   ]
  },
  {
   "cell_type": "code",
   "execution_count": 66,
   "metadata": {},
   "outputs": [
    {
     "name": "stdout",
     "output_type": "stream",
     "text": [
      "[2, 6, 4, 8]\n",
      "[1, 35, 3, 7]\n"
     ]
    }
   ],
   "source": [
    "par = []\n",
    "impar = []\n",
    "for x in range(8) :\n",
    "    nr = int(input('Digite '))\n",
    "    if nr % 2 == 0 :\n",
    "        par.append(nr)\n",
    "    else :\n",
    "        impar.append(nr)\n",
    "print(par)\n",
    "print(impar)"
   ]
  },
  {
   "cell_type": "markdown",
   "metadata": {},
   "source": [
    "Exercicio 14 - Numa eleição existem três candidatos. Faça um programa que peça o número total de\n",
    "eleitores. Peça para cada eleitor votar e ao final mostrar o número de votos de cada\n",
    "candidato. "
   ]
  },
  {
   "cell_type": "code",
   "execution_count": null,
   "metadata": {},
   "outputs": [],
   "source": []
  },
  {
   "cell_type": "markdown",
   "metadata": {},
   "source": [
    "Exercicio 15 - Faça um Programa que em uma função receba 4 notas bimestrais e mostre a média."
   ]
  },
  {
   "cell_type": "code",
   "execution_count": 70,
   "metadata": {},
   "outputs": [
    {
     "name": "stdout",
     "output_type": "stream",
     "text": [
      "Sua média é 8.75\n"
     ]
    }
   ],
   "source": [
    "def func () :\n",
    "    n1 = float(input('Digite a nota'))\n",
    "    n2 = float(input('Digite a nota'))\n",
    "    n3 = float(input('Digite a nota'))\n",
    "    n4 = float(input('Digite a nota'))\n",
    "    print(f'Sua média é {(n1+n2+n3+n4) / 4}')\n",
    "\n",
    "func()"
   ]
  },
  {
   "cell_type": "markdown",
   "metadata": {},
   "source": [
    "Exercicio 16 - Faça um Programa que em uma função receba uma medida em metros e converta retorne\n",
    "o valor convertido para centímetros."
   ]
  },
  {
   "cell_type": "code",
   "execution_count": 73,
   "metadata": {},
   "outputs": [
    {
     "name": "stdout",
     "output_type": "stream",
     "text": [
      "10 metros convertido em centimetros fica 1000 centimetros\n"
     ]
    }
   ],
   "source": [
    "def func (medida) :\n",
    "    print(f'{medida} metros convertido em centimetros fica {medida * 100} centimetros')\n",
    "\n",
    "func (10)"
   ]
  },
  {
   "cell_type": "markdown",
   "metadata": {},
   "source": [
    "Exercicio 17 - Faça um programa que receba a temperatura média de cada mês do ano e armazene-as\n",
    "em uma lista. Após isto, calcule a média anual das temperaturas e mostre todas as\n",
    "temperaturas acima da média anual, e em que mês elas ocorreram (mostrar o mês por\n",
    "extenso: 1 – Janeiro, 2 – Fevereiro, . . . )."
   ]
  },
  {
   "cell_type": "code",
   "execution_count": null,
   "metadata": {},
   "outputs": [],
   "source": []
  },
  {
   "cell_type": "markdown",
   "metadata": {},
   "source": [
    "Exercicio 18 - Faça um programa que receba o valor de uma dívida e mostre uma tabela com os seguintes\n",
    "dados: valor da dívida, valor dos juros, quantidade de parcelas e valor da parcela. Os juros\n",
    "e a quantidade de parcelas seguem a tabela abaixo:"
   ]
  },
  {
   "cell_type": "code",
   "execution_count": 76,
   "metadata": {},
   "outputs": [
    {
     "name": "stdout",
     "output_type": "stream",
     "text": [
      "PARCELA  | % JUROS   |  PARCELA\n",
      "1        | 1000.0    |  1000.00\n",
      "3        | 100.0     |  333.33\n",
      "6        | 150.0     |  166.67\n",
      "9        | 200.0     |  111.11\n",
      "12       | 250.0     |  83.33\n"
     ]
    }
   ],
   "source": [
    "divida = float(input('Digite o valor da divida'))\n",
    "juros1 = divida * 0.1\n",
    "juros2 = divida * 0.15\n",
    "juros3 = divida * 0.2\n",
    "juros4 = divida * 0.25\n",
    "print('PARCELA  | % JUROS   |  PARCELA')\n",
    "print(f'1        | {divida}    |  {divida / 1:.2f}')\n",
    "print(f'3        | {juros1}     |  {divida / 3:.2f}')\n",
    "print(f'6        | {juros2}     |  {divida / 6:.2f}')\n",
    "print(f'9        | {juros3}     |  {divida / 9:.2f}')\n",
    "print(f'12       | {juros4}     |  {divida / 12:.2f}')\n",
    "\n"
   ]
  }
 ],
 "metadata": {
  "kernelspec": {
   "display_name": "Python 3",
   "language": "python",
   "name": "python3"
  },
  "language_info": {
   "codemirror_mode": {
    "name": "ipython",
    "version": 3
   },
   "file_extension": ".py",
   "mimetype": "text/x-python",
   "name": "python",
   "nbconvert_exporter": "python",
   "pygments_lexer": "ipython3",
   "version": "3.12.3"
  }
 },
 "nbformat": 4,
 "nbformat_minor": 2
}
