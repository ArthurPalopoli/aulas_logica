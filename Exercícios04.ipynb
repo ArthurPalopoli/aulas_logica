{
 "cells": [
  {
   "cell_type": "code",
   "execution_count": 12,
   "metadata": {},
   "outputs": [
    {
     "name": "stdout",
     "output_type": "stream",
     "text": [
      "2\n",
      "4\n",
      "6\n",
      "8\n",
      "10\n",
      "12\n",
      "14\n",
      "16\n",
      "18\n",
      "20\n"
     ]
    }
   ],
   "source": [
    "# 01\n",
    "num = 2\n",
    "while num <= 20 :\n",
    "    if num % 2 == 0\n",
    "    print( num)\n",
    "    num = num + 2\n",
    "\n",
    "\n",
    "\n"
   ]
  },
  {
   "cell_type": "code",
   "execution_count": 30,
   "metadata": {},
   "outputs": [
    {
     "name": "stdout",
     "output_type": "stream",
     "text": [
      "8\n",
      "50\n",
      "27\n",
      "50\n",
      "6\n",
      "41\n",
      "FIM\n"
     ]
    }
   ],
   "source": [
    "# 02\n",
    "\n",
    "import random \n",
    "quantidade = 0\n",
    "while quantidade < 6 :   \n",
    "     nrSorteado = random.randint(1, 60)\n",
    "     quantidade = quantidade + 1\n",
    "     print (nrSorteado)\n",
    "print ('FIM')\n",
    "\n",
    "    \n"
   ]
  },
  {
   "cell_type": "code",
   "execution_count": 15,
   "metadata": {},
   "outputs": [
    {
     "name": "stdout",
     "output_type": "stream",
     "text": [
      " A somas dos numeros pares são 20.0 e o dos impares são 6.0 \n"
     ]
    }
   ],
   "source": [
    "# 03 Receba alguns número e verifique a soma e a quantidade de todos os pares e ímpares digitados, digite 0 para não receber mais\n",
    "soma = 0\n",
    "P = 0\n",
    "I = 0 \n",
    "while True :\n",
    "    n = int(input('Coloque 5 números'))\n",
    "    if n == 0 :\n",
    "        break\n",
    "    if n % 2 == 0 :\n",
    "        P = P + 1\n",
    "    elif n % 2 > 0 :\n",
    "        I = I + 1\n",
    "    soma += n\n",
    "    \n",
    "print (f' A soma dos números é {soma}, são {P} pares e {I} são ímpares ')\n"
   ]
  },
  {
   "cell_type": "code",
   "execution_count": 25,
   "metadata": {},
   "outputs": [
    {
     "name": "stdout",
     "output_type": "stream",
     "text": [
      "15.0\n"
     ]
    }
   ],
   "source": [
    "# 04 Faça um programa em Python que leia 5 valores inteiros e: \n",
    "#Encontre e mostre o maior valor, Encontre e mostre o menor valor, Calcule e mostre a média dos números lidos\n",
    "quantidade = 0\n",
    "x = 0\n",
    "while True :\n",
    "    val = float(input('Digite cinco números'))\n",
    "    x = x + val \n",
    "    media = x / 5\n",
    "    quantidade = quantidade + 1\n",
    "    if quantidade == 5 :\n",
    "        break\n",
    "print (media)\n",
    "      "
   ]
  },
  {
   "cell_type": "code",
   "execution_count": null,
   "metadata": {},
   "outputs": [],
   "source": [
    "# 05\n"
   ]
  }
 ],
 "metadata": {
  "kernelspec": {
   "display_name": "Python 3",
   "language": "python",
   "name": "python3"
  },
  "language_info": {
   "codemirror_mode": {
    "name": "ipython",
    "version": 3
   },
   "file_extension": ".py",
   "mimetype": "text/x-python",
   "name": "python",
   "nbconvert_exporter": "python",
   "pygments_lexer": "ipython3",
   "version": "3.12.3"
  }
 },
 "nbformat": 4,
 "nbformat_minor": 2
}
