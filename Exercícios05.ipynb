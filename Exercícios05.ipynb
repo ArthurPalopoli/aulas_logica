{
 "cells": [
  {
   "cell_type": "code",
   "execution_count": 1,
   "metadata": {},
   "outputs": [
    {
     "name": "stdout",
     "output_type": "stream",
     "text": [
      "O numero 1 é impar\n",
      "O numero 3 é impar\n",
      "O numero 5 é impar\n",
      "O numero 7 é impar\n",
      "O numero 9 é impar\n",
      "O numero 11 é impar\n",
      "O numero 13 é impar\n",
      "O numero 15 é impar\n",
      "O numero 17 é impar\n",
      "O numero 19 é impar\n",
      "O numero 21 é impar\n",
      "O numero 23 é impar\n",
      "O numero 25 é impar\n",
      "O numero 27 é impar\n",
      "O numero 29 é impar\n",
      "O numero 31 é impar\n",
      "O numero 33 é impar\n",
      "O numero 35 é impar\n",
      "O numero 37 é impar\n",
      "O numero 39 é impar\n"
     ]
    }
   ],
   "source": [
    "for nmrs in range (40) :\n",
    "    if nmrs % 2 != 0 :\n",
    "        print (f'O numero {nmrs} é impar')"
   ]
  },
  {
   "cell_type": "code",
   "execution_count": 4,
   "metadata": {},
   "outputs": [
    {
     "name": "stdout",
     "output_type": "stream",
     "text": [
      "2\n",
      "4\n",
      "6\n",
      "8\n",
      "10\n",
      "12\n",
      "14\n",
      "16\n",
      "18\n",
      "20\n",
      "22\n",
      "24\n",
      "26\n",
      "28\n",
      "30\n",
      "32\n",
      "34\n",
      "36\n",
      "38\n",
      "40\n"
     ]
    }
   ],
   "source": [
    "#1\n",
    "for nmrs in range (1,40,2) :\n",
    "    nmrs = nmrs + 1\n",
    "    print (nmrs)"
   ]
  },
  {
   "cell_type": "code",
   "execution_count": 23,
   "metadata": {},
   "outputs": [
    {
     "name": "stdout",
     "output_type": "stream",
     "text": [
      "9\n",
      "5\n",
      "3\n",
      "40\n",
      "13\n",
      "26\n"
     ]
    }
   ],
   "source": [
    "#2\n",
    "import random \n",
    "for nums in range (6) :\n",
    "    nrS = random.randint(1,60)\n",
    "    print (nrS)\n",
    "    \n"
   ]
  },
  {
   "cell_type": "code",
   "execution_count": 10,
   "metadata": {},
   "outputs": [
    {
     "name": "stdout",
     "output_type": "stream",
     "text": [
      " A soma dos números é 147, são 2 pares e 3 são ímpares \n"
     ]
    }
   ],
   "source": [
    "#3\n",
    "soma = 0\n",
    "P = 0\n",
    "I = 0 \n",
    "for n in range (5) :\n",
    "    n = int(input('Coloque 5 números'))\n",
    "    if n % 2 == 0 :\n",
    "        P = P + 1\n",
    "    elif n % 2 > 0 :\n",
    "        I = I + 1\n",
    "    soma += n\n",
    "    \n",
    "print (f' A soma dos números é {soma}, são {P} pares e {I} são ímpares ')\n",
    "\n"
   ]
  },
  {
   "cell_type": "code",
   "execution_count": 12,
   "metadata": {},
   "outputs": [
    {
     "name": "stdout",
     "output_type": "stream",
     "text": [
      "10\n",
      "15\n",
      "20\n",
      "25\n",
      "30\n",
      "35\n",
      "40\n",
      "45\n"
     ]
    }
   ],
   "source": [
    "#4\n",
    "inicio = int(input('Defina o inicio'))\n",
    "fim = int(input('Defina o fim'))\n",
    "passo = int(input('Defina o passo'))\n",
    "for x in range (inicio, fim, passo) :\n",
    "    print (x)"
   ]
  },
  {
   "cell_type": "code",
   "execution_count": 27,
   "metadata": {},
   "outputs": [
    {
     "ename": "SyntaxError",
     "evalue": "invalid syntax (2989969494.py, line 11)",
     "output_type": "error",
     "traceback": [
      "\u001b[1;36m  Cell \u001b[1;32mIn[27], line 11\u001b[1;36m\u001b[0m\n\u001b[1;33m    if sexo == 'F' = sexo == 'f' :\u001b[0m\n\u001b[1;37m                   ^\u001b[0m\n\u001b[1;31mSyntaxError\u001b[0m\u001b[1;31m:\u001b[0m invalid syntax\n"
     ]
    }
   ],
   "source": [
    "#5\n",
    "\n",
    "\n",
    "s_m = 0\n",
    "s_h = 0\n",
    "h_m = 0\n",
    "q_h = 0\n",
    "for x in range (5) :\n",
    "    idade = int(input('Digite sua idade'))\n",
    "    sexo = input('Digite seu sexo (F/M)')\n",
    "    if sexo == 'F' or sexo == 'f' :\n",
    "        s_m = s_m + idades\n",
    "        q_m = q_m + 1\n",
    "    else :\n",
    "        s_h = s_h + idades\n",
    "        q_h = q_h + 1\n",
    "print (f'Média da mulheres {s_m/q_m_}')\n",
    "print (f'Média dos homens {s_h/q_h_}')\n",
    "print (f'Média do grupo {(s_m+s_h_) / (q_m+q_h)}')"
   ]
  },
  {
   "cell_type": "code",
   "execution_count": 26,
   "metadata": {},
   "outputs": [
    {
     "name": "stdout",
     "output_type": "stream",
     "text": [
      "7\n",
      "14\n",
      "21\n",
      "28\n",
      "35\n",
      "42\n",
      "49\n",
      "56\n",
      "63\n",
      "70\n",
      "77\n",
      "84\n",
      "91\n",
      "98\n"
     ]
    }
   ],
   "source": [
    "for x in range (5, 100) :\n",
    "    if x % 7 == 0 :\n",
    "        print (x)"
   ]
  },
  {
   "cell_type": "code",
   "execution_count": 34,
   "metadata": {},
   "outputs": [
    {
     "name": "stdout",
     "output_type": "stream",
     "text": [
      "odracir e leirbag\n"
     ]
    }
   ],
   "source": [
    "p = input('Digite a palavra')\n",
    "np = ''\n",
    "for letra in p :\n",
    "    np = letra + np\n",
    "print (np)"
   ]
  }
 ],
 "metadata": {
  "kernelspec": {
   "display_name": "Python 3",
   "language": "python",
   "name": "python3"
  },
  "language_info": {
   "codemirror_mode": {
    "name": "ipython",
    "version": 3
   },
   "file_extension": ".py",
   "mimetype": "text/x-python",
   "name": "python",
   "nbconvert_exporter": "python",
   "pygments_lexer": "ipython3",
   "version": "3.12.3"
  }
 },
 "nbformat": 4,
 "nbformat_minor": 2
}
