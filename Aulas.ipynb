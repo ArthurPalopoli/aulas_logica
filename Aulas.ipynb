{
 "cells": [
  {
   "cell_type": "markdown",
   "metadata": {},
   "source": [
    "Aula 16/02/2022 :\n",
    "\n",
    "Comandos de saída (print) \n",
    "Tipos de dados (string, int, float, bool) \n",
    " Operações Aritméticas (+ - * / % **)"
   ]
  },
  {
   "cell_type": "code",
   "execution_count": 30,
   "metadata": {},
   "outputs": [
    {
     "name": "stdout",
     "output_type": "stream",
     "text": [
      "Olá, mundo!!!\n",
      "Meu primeiro código python com aspas duplas.\n",
      "Meu primeiro código python com aspas duplas.\n",
      "Para duplicar uma linha pressionei shift + alt +Seta Baixo\n",
      "123\n",
      "123\n",
      "1.22222\n",
      "int float bool str\n",
      "True\n",
      "sesi\n",
      "18\n",
      "126\n",
      "dinossauro\n",
      "10\n",
      "10218432140\n",
      "string 10 70.5 False\n",
      "2867920324536634310937\n",
      "60\n",
      "54\n",
      "10\n",
      "1609.0\n",
      "1\n",
      "27\n",
      "7.0\n"
     ]
    }
   ],
   "source": [
    "#meu primeiro código\n",
    "#a função print serve para exibir na tela alguma mensagem\n",
    "#td q eu coloco dps do simbolo # n aparece\n",
    "print('Olá, mundo!!!') \n",
    "print(\"Meu primeiro código python com aspas duplas.\")\n",
    "print(\"Meu primeiro código python com aspas duplas.\")\n",
    "print('Para duplicar uma linha pressionei shift + alt +Seta Baixo')\n",
    "print(123) #estou exibindo um numero inteiro por isso eu posso dar aspas\n",
    "print(123) #Int estou exibindo um numero inteiro por isso eu posso dar aspas\n",
    "print(1.22222) #Número float\n",
    "print('int float bool str')\n",
    "print(True) #Campo lógico (verdadeiro ou falso) (True or False)\n",
    "print('sesi') #tipo string\n",
    "print(12 + 6) # Somando 2 numeros inteiros (o sinal de + realiza a SOMA)\n",
    "print('12' + '6') # Porem se forem 2 strings (o sinal de + junta as 2 palavras e as tornam 1 palavra)\n",
    "print('dino' +'ssauro')\n",
    "print(5 * 2) # Para calculos de multiplicação é usado * \n",
    "print(43565 * 234556) # e é mlhr q muita calculadora\n",
    "print('string', 10, 70.5, False) #posso imprimir varias informações ao msm tempo separando-as por virgula\n",
    "print(9189282893 * 312094029309)\n",
    "\n",
    "print( 10 + 50 ) # + é o operador de SOMA (numero inteiro ou decimal)\n",
    "print( 67 - 13) # - é o operador de SUBTRAÇÃO (n° inteiro ou decimal\n",
    "print(5 * 2) # Para calculos de MULTIPLICAÇÃO é usado *\n",
    "print( 4827 / 3) # / é o operador de DIVISÃO\n",
    "print( 31 % 2) # % é o operador do resto da DIVISÃO (MÓDULO)\n",
    "print( 3 ** 3 ) # ** é o operador de EXPONENCIAÇÃO 3³\n",
    "print( (8 + 6) / 2) # O parênteses define a maior ordem de prece\n"
   ]
  },
  {
   "cell_type": "markdown",
   "metadata": {},
   "source": [
    "Aula 22/02/2024:\n",
    " Comandos de entrada (input / Variáveis / Pseudocódigo)"
   ]
  },
  {
   "cell_type": "code",
   "execution_count": null,
   "metadata": {},
   "outputs": [],
   "source": []
  },
  {
   "cell_type": "code",
   "execution_count": 31,
   "metadata": {},
   "outputs": [
    {
     "name": "stdout",
     "output_type": "stream",
     "text": [
      "Desenvolvimento de Sistemas\n",
      "ovo maltine macarronado de dezembro\n",
      "curso\n",
      "Desenvolvimento de Sistemas\n",
      "curso Desenvolvimento de Sistemas ovo maltine macarronado de dezembro\n",
      "a idade de João é 16 anos\n",
      "a idade de pedro é 26\n",
      "Olá Arthur  vc tem 16 anos  hj esta fazendo  23.5 ºC\n",
      "olá Arthur, vc tem 16 anos, hj esta fazendo 23.5 ºC\n",
      "Seu nome é Arthur, vc tem 16 anos e seu peso é 55.5 kg\n"
     ]
    },
    {
     "ename": "ValueError",
     "evalue": "invalid literal for int() with base 10: ''",
     "output_type": "error",
     "traceback": [
      "\u001b[1;31m---------------------------------------------------------------------------\u001b[0m",
      "\u001b[1;31mValueError\u001b[0m                                Traceback (most recent call last)",
      "Cell \u001b[1;32mIn[31], line 48\u001b[0m\n\u001b[0;32m     46\u001b[0m \u001b[38;5;28mprint\u001b[39m (\u001b[38;5;124mf\u001b[39m\u001b[38;5;124m'\u001b[39m\u001b[38;5;124mSeu nome é \u001b[39m\u001b[38;5;132;01m{\u001b[39;00mnome\u001b[38;5;132;01m}\u001b[39;00m\u001b[38;5;124m, vc tem \u001b[39m\u001b[38;5;132;01m{\u001b[39;00midade\u001b[38;5;132;01m}\u001b[39;00m\u001b[38;5;124m e seu peso é \u001b[39m\u001b[38;5;132;01m{\u001b[39;00mpeso\u001b[38;5;132;01m}\u001b[39;00m\u001b[38;5;124m'\u001b[39m)\n\u001b[0;32m     47\u001b[0m Nome \u001b[38;5;241m=\u001b[39m \u001b[38;5;28minput\u001b[39m(\u001b[38;5;124m'\u001b[39m\u001b[38;5;124mDigite seu nome \u001b[39m\u001b[38;5;124m'\u001b[39m)\n\u001b[1;32m---> 48\u001b[0m Idade \u001b[38;5;241m=\u001b[39m \u001b[38;5;28;43mint\u001b[39;49m\u001b[43m(\u001b[49m\u001b[38;5;28;43minput\u001b[39;49m\u001b[43m(\u001b[49m\u001b[38;5;124;43m'\u001b[39;49m\u001b[38;5;124;43m Digite sua idade\u001b[39;49m\u001b[38;5;124;43m'\u001b[39;49m\u001b[43m)\u001b[49m\u001b[43m)\u001b[49m\n\u001b[0;32m     49\u001b[0m Peso \u001b[38;5;241m=\u001b[39m \u001b[38;5;28mfloat\u001b[39m(\u001b[38;5;28minput\u001b[39m(\u001b[38;5;124m'\u001b[39m\u001b[38;5;124mDigite seu peso\u001b[39m\u001b[38;5;124m'\u001b[39m))\n\u001b[0;32m     50\u001b[0m \u001b[38;5;28mprint\u001b[39m (\u001b[38;5;124mf\u001b[39m\u001b[38;5;124m'\u001b[39m\u001b[38;5;124mQual é o seu nome? \u001b[39m\u001b[38;5;132;01m{\u001b[39;00mNome\u001b[38;5;132;01m}\u001b[39;00m\u001b[38;5;124m. Qual a sua idade? \u001b[39m\u001b[38;5;132;01m{\u001b[39;00mIdade\u001b[38;5;132;01m}\u001b[39;00m\u001b[38;5;124m Qual é o seu peso? \u001b[39m\u001b[38;5;132;01m{\u001b[39;00mPeso\u001b[38;5;132;01m}\u001b[39;00m\u001b[38;5;124m'\u001b[39m)\n",
      "\u001b[1;31mValueError\u001b[0m: invalid literal for int() with base 10: ''"
     ]
    }
   ],
   "source": [
    "#declarando minha primeira variável\n",
    "#lemos da seguinte forma :\n",
    "#variavel curso recebe (=) a string 'Desenvolvimento de Sistemas'\n",
    "#Receb/armazene o texto desenvolvimento de sistemas \n",
    "curso = 'Desenvolvimento de Sistemas'\n",
    "#Exiba o valor armazenado\n",
    "print (curso)\n",
    "#Outro exemplo\n",
    "exe = 'ovo maltine macarronado de dezembro'\n",
    "print (exe)\n",
    "print ('curso') # Para imprimr uma variavel n se coloca entre \" \"\n",
    "print (curso) # jeito correto de utilizar uma variavel\n",
    "print ('curso', curso, exe)\n",
    "\n",
    "#criando e atribuindo uma variavel\n",
    "idade = '16 anos'\n",
    "print ('a idade de João é', idade)\n",
    "IDADE = 5 + 21\n",
    "print ('a idade de pedro é', IDADE)\n",
    "temperatura = '23.5 ºC'\n",
    "nome = 'Arthur'\n",
    "#Exiba o valor das 3 variaveis\n",
    "print ('Olá', nome, \" vc tem\", idade, ' hj esta fazendo ', temperatura )\n",
    "print(f'olá {nome}, vc tem {idade}, hj esta fazendo {temperatura}' ) \n",
    "\n",
    "#Declarando variaveis lógicas, recebe apenas True or False\n",
    "chovendo = False\n",
    "dia = True\n",
    "\n",
    "#Nesta linha abaixo ocorrerá um erro pois não existe uma varia´vel com o nome salário< então n consegue encontar nada para exibir\n",
    "# NameError: name 'salario' is not defined\n",
    "# print(\"Salario\", salario)\n",
    "\n",
    "#Declarando um constante, diferentemente da variavel q posso alternar o valor na constante n é permitido, declaramos com o nome todo em maiuscula\n",
    "PI = 3.141\n",
    "\n",
    "#Passo 1: Receber o nome da pessoa\n",
    "nome = 'Arthur'\n",
    "#Passo 2: Receber a idade da pessoa\n",
    "#Posso receber essa string recebida do tipo int\n",
    "idade = '16 anos'\n",
    "#Passo 3: Receber o peso da pessoa\n",
    " #Posso receber essa string recebida do tipo float\n",
    "peso = '55.5 kg'\n",
    "#Passo 4: Exibir nome, idade e peso\n",
    "print (f'Seu nome é {nome}, vc tem {idade} e seu peso é {peso}')\n",
    "Nome = input('Digite seu nome ')\n",
    "Idade = int(input(' Digite sua idade'))\n",
    "Peso = float(input('Digite seu peso'))\n",
    "print (f'Qual é o seu nome? {Nome}. Qual a sua idade? {Idade} Qual é o seu peso? {Peso}')\n",
    "\n",
    "#Exibindo os tipos das variaveis\n",
    "#Tudo q recebemos do input é do tipo str (string)\n",
    "print(type(Nome), type(Idade), type(Peso))\n"
   ]
  },
  {
   "cell_type": "markdown",
   "metadata": {},
   "source": [
    "Aula 23/02/2024 - Operações com Variáveis\n"
   ]
  },
  {
   "cell_type": "code",
   "execution_count": null,
   "metadata": {},
   "outputs": [
    {
     "name": "stdout",
     "output_type": "stream",
     "text": [
      "1022.0\n",
      "<class 'float'>\n",
      "1018.0\n"
     ]
    }
   ],
   "source": [
    "#Receber o primeiro número\n",
    "numero1 = float(input('Digite seu numero'))\n",
    "#Receber o segundo número\n",
    "numero2 = float(input('Digite seu numero'))\n",
    "#Soma o primeiro numero + segundo\n",
    "soma = (numero1 + numero2)\n",
    "#Exibr resultado\n",
    "print (soma)\n",
    "print (type(soma))\n",
    "#Outro exemplo com mais números\n",
    "#Recebe o terceiro numero\n",
    "numero3 = float(input('Digite seu número'))\n",
    "#Recebe o quarto número\n",
    "numero4 = float(input('Digite seu número'))\n",
    "#Soma os números\n",
    "Soma = (numero1 + numero2 - (numero3 + numero4))\n",
    "#Exibe resultados\n",
    "print (Soma)\n"
   ]
  },
  {
   "cell_type": "code",
   "execution_count": null,
   "metadata": {},
   "outputs": [
    {
     "name": "stdout",
     "output_type": "stream",
     "text": [
      "500.0\n",
      "600.0\n"
     ]
    }
   ],
   "source": [
    "nUmber1 = float(input('Digite um numero'))\n",
    "nUmber2 = float(input('Digite um numero'))\n",
    "somar = (nUmber1 * nUmber2)\n",
    "print (somar)\n",
    "nUmber3 = float(input('Digite um numero'))\n",
    "nUmber4 = float(input('Digite um numero'))\n",
    "nUmber5 = float(input('Digite um numero'))\n",
    "sOmarr = (nUmber1 * nUmber2 + nUmber3 - (nUmber4 * nUmber5))\n",
    "SoMARR = (100 + 100)\n",
    "print (sOmarr + SoMARR)"
   ]
  },
  {
   "cell_type": "code",
   "execution_count": null,
   "metadata": {},
   "outputs": [
    {
     "name": "stdout",
     "output_type": "stream",
     "text": [
      "Vc recebeu R$500.0, e pagou R$1700.0\n"
     ]
    }
   ],
   "source": [
    "Valor = float(input('Digite o valor'))\n",
    "Desconto = float(input('Digite o valor'))\n",
    "Valor = Valor + Desconto\n",
    "print(f'Vc recebeu R${Desconto}, e pagou R${Valor}')\n"
   ]
  },
  {
   "cell_type": "code",
   "execution_count": null,
   "metadata": {},
   "outputs": [
    {
     "name": "stdout",
     "output_type": "stream",
     "text": [
      "4.0\n"
     ]
    }
   ],
   "source": [
    "numero_ = 4 / 2\n",
    "numero_ = numero_**2 \n",
    "print (numero_)\n",
    "numero_ = numero_* (50- 20)\n",
    "print (numero_)\n",
    "\n",
    "ValorDoProjeto = (8 + 100) * 15\n",
    "\n",
    "\n",
    "\n"
   ]
  },
  {
   "cell_type": "code",
   "execution_count": null,
   "metadata": {},
   "outputs": [
    {
     "name": "stdout",
     "output_type": "stream",
     "text": [
      "2300\n"
     ]
    }
   ],
   "source": [
    "HorasPd = 8\n",
    "Dias = 15\n",
    "RS = 100\n",
    "ValorDoProjeto = (HorasPd + Dias) * RS\n",
    "\n",
    "print (ValorDoProjeto)\n",
    "\n",
    "\n",
    "\n",
    "\n",
    "ValorDoProjeto = (8 + 100) * 15\n"
   ]
  },
  {
   "cell_type": "markdown",
   "metadata": {},
   "source": [
    "29/02/2024 - Operadores relacionais e estrutura condicional"
   ]
  },
  {
   "cell_type": "code",
   "execution_count": null,
   "metadata": {},
   "outputs": [
    {
     "name": "stdout",
     "output_type": "stream",
     "text": [
      "a > b? False\n",
      "a == b? False\n",
      "a != b? True\n",
      "a >= b? False\n"
     ]
    }
   ],
   "source": [
    "#: (Igual)\n",
    "#Operador == (Igualdade)\n",
    "# != (Diferente)\n",
    "# > (Maior)\n",
    "# < (Menor)\n",
    "# >= (maior ou igual)\n",
    "\n",
    "a = 2\n",
    "b = 3\n",
    "print (f'a > b? {a > b}')\n",
    "print (f'a == b? {a == b}')\n",
    "print (f'a != b? {a != b}')\n",
    "print (f'a >= b? {a >= b}')\n",
    "\n"
   ]
  },
  {
   "cell_type": "code",
   "execution_count": null,
   "metadata": {},
   "outputs": [
    {
     "name": "stdout",
     "output_type": "stream",
     "text": [
      "fim\n"
     ]
    }
   ],
   "source": [
    "tenho_ingresso = False\n",
    "\n",
    "if tenho_ingresso == True :\n",
    "    print ('Posso entrar.')\n",
    "print ('fim')"
   ]
  },
  {
   "cell_type": "code",
   "execution_count": null,
   "metadata": {},
   "outputs": [
    {
     "name": "stdout",
     "output_type": "stream",
     "text": [
      "Vc é menor!!!!!!!!\n",
      "Fim\n"
     ]
    }
   ],
   "source": [
    "# Passo 1 receber o vaor da idade\n",
    "# Passo verificar se é maior ou menor do que de 18\n",
    "#Passo 3 se for, exibir \"Maior idade\"\n",
    "\n",
    "idade = int(input('Digite o valor'))\n",
    "if idade >= 18 :\n",
    "    print(' Maior de Idade, pode entrar')\n",
    "else :\n",
    "    print ('Vc é menor!!!!!!!!')\n",
    "print('Fim')"
   ]
  },
  {
   "cell_type": "code",
   "execution_count": null,
   "metadata": {},
   "outputs": [],
   "source": []
  },
  {
   "cell_type": "code",
   "execution_count": null,
   "metadata": {},
   "outputs": [
    {
     "name": "stdout",
     "output_type": "stream",
     "text": [
      " Pode entrar\n",
      "Fim\n"
     ]
    }
   ],
   "source": [
    "Tenho_ingresso = True\n",
    "if Tenho_ingresso == True :\n",
    "    print(' Pode entrar')\n",
    "else :\n",
    "    print ('N vai entra n')\n",
    "print('Fim')"
   ]
  },
  {
   "cell_type": "markdown",
   "metadata": {},
   "source": [
    "30/02/2024"
   ]
  },
  {
   "cell_type": "code",
   "execution_count": null,
   "metadata": {},
   "outputs": [
    {
     "name": "stdout",
     "output_type": "stream",
     "text": [
      "False\n",
      "True\n"
     ]
    }
   ],
   "source": [
    "# o comando elif te possibilita colocar outras condições\n",
    "\n",
    "a = 2\n",
    "b = 3\n",
    "c = 5\n",
    "# False e False\n",
    "print((a > 2) and (b < 2)) # False\n",
    "\n",
    "# False ou False\n",
    "print((a > 2) or (b < 2))\n",
    "\n",
    "idade = 18\n",
    "#        False         True                          \n",
    "print ( idade > 18 or idade == 18 ) # True\n",
    "#             idade >= 18                       \n",
    "  "
   ]
  },
  {
   "cell_type": "code",
   "execution_count": null,
   "metadata": {},
   "outputs": [
    {
     "name": "stdout",
     "output_type": "stream",
     "text": [
      "Triângulo Escaleno\n"
     ]
    }
   ],
   "source": [
    "lado1 = float(input('Digite o valor'))\n",
    "lado2 = float(input('Digite o valor'))\n",
    "lado3 = float(input('Digite o valor'))\n",
    "if lado1 == lado2 == lado3 :\n",
    "    print ('é um triangulo equilatero')\n",
    "elif lado1 != lado2 != lado3 :\n",
    "    print ('Triângulo Escaleno')\n",
    "else: \n",
    "    print (' Trângulo Isóceles')"
   ]
  },
  {
   "cell_type": "code",
   "execution_count": null,
   "metadata": {},
   "outputs": [],
   "source": []
  },
  {
   "cell_type": "code",
   "execution_count": 45,
   "metadata": {},
   "outputs": [
    {
     "ename": "ValueError",
     "evalue": "could not convert string to float: ''",
     "output_type": "error",
     "traceback": [
      "\u001b[1;31m---------------------------------------------------------------------------\u001b[0m",
      "\u001b[1;31mValueError\u001b[0m                                Traceback (most recent call last)",
      "Cell \u001b[1;32mIn[45], line 1\u001b[0m\n\u001b[1;32m----> 1\u001b[0m altura \u001b[38;5;241m=\u001b[39m \u001b[38;5;28;43mfloat\u001b[39;49m\u001b[43m(\u001b[49m\u001b[38;5;28;43minput\u001b[39;49m\u001b[43m(\u001b[49m\u001b[38;5;124;43m'\u001b[39;49m\u001b[38;5;124;43mDigite a altura\u001b[39;49m\u001b[38;5;124;43m'\u001b[39;49m\u001b[43m)\u001b[49m\u001b[43m)\u001b[49m\n\u001b[0;32m      2\u001b[0m peso \u001b[38;5;241m=\u001b[39m \u001b[38;5;28mfloat\u001b[39m(\u001b[38;5;28minput\u001b[39m(\u001b[38;5;124m'\u001b[39m\u001b[38;5;124mDigite o peso\u001b[39m\u001b[38;5;124m'\u001b[39m))\n\u001b[0;32m      3\u001b[0m imc \u001b[38;5;241m=\u001b[39m  peso \u001b[38;5;241m/\u001b[39m (altura \u001b[38;5;241m*\u001b[39m\u001b[38;5;241m*\u001b[39m \u001b[38;5;241m2\u001b[39m) \n",
      "\u001b[1;31mValueError\u001b[0m: could not convert string to float: ''"
     ]
    }
   ],
   "source": [
    "altura = float(input('Digite a altura'))\n",
    "peso = float(input('Digite o peso'))\n",
    "imc =  peso / (altura ** 2) \n",
    "print (f'Seu IMC é {imc:.1f}')\n",
    "if imc < 18.5 :\n",
    "    print ('Abaixo do ideal')\n",
    "elif imc >= 18.6 and imc <= 24.9 :\n",
    "    print ('Peso ideal')\n",
    "elif imc >= 25 and imc <= 29.9 :\n",
    "    print ('sobrepeso')\n",
    "else :\n",
    "    print ('Não esta abaixo do peso')"
   ]
  },
  {
   "cell_type": "code",
   "execution_count": null,
   "metadata": {},
   "outputs": [
    {
     "name": "stdout",
     "output_type": "stream",
     "text": [
      "Triângulo Escaleno\n"
     ]
    }
   ],
   "source": [
    "lado1 = float(input('Digite o valor'))\n",
    "lado2 = float(input('Digite o valor'))\n",
    "lado3 = float(input('Digite o valor'))\n",
    "if (lado1 == lado2 ) and (lado2 == lado3):\n",
    "    print ('é um triângulo equilatero')\n",
    "elif (lado1 != lado2) and (lado1 != lado3) and (lado3 != lado2) :\n",
    "    print ('Triângulo Escaleno')\n",
    "else: \n",
    "    print (' Trângulo Isóceles')"
   ]
  },
  {
   "cell_type": "code",
   "execution_count": null,
   "metadata": {},
   "outputs": [
    {
     "name": "stdout",
     "output_type": "stream",
     "text": [
      "a letra s não é uma vogal\n"
     ]
    }
   ],
   "source": [
    "letra = input('Digite o valor')\n",
    "if letra == 'a' or letra == 'e' or letra == 'i' or letra == 'o' or letra == 'u':\n",
    "    print (f'a letra {letra} é uma vogal')\n",
    "elif letra == '1' or letra == '2' or letra == '3' or letra == '4' or letra == '5' or letra == '6' or letra == '7' or letra == '8' or letra == '9'  :\n",
    "    print (f'a letra {letra} é um número')\n",
    "else :\n",
    "    print (f'a letra {letra} não é uma vogal')"
   ]
  },
  {
   "cell_type": "markdown",
   "metadata": {},
   "source": [
    "07/03/2024 - Estrutura condicional aninhada / match case"
   ]
  },
  {
   "cell_type": "code",
   "execution_count": null,
   "metadata": {},
   "outputs": [
    {
     "name": "stdout",
     "output_type": "stream",
     "text": [
      "Vc pode votar, mas não é obrigado\n"
     ]
    }
   ],
   "source": [
    "idade = int(input('Digite o valor'))\n",
    "if idade >= 18 and idade <= 70:\n",
    "    print ('Vc é obrigado a votar')\n",
    "else :\n",
    "    if idade <16:\n",
    "        print ('Não pode votar')\n",
    "    else :\n",
    "        if idade >= 16 or idade > 70 :\n",
    "              print ('Vc pode votar, mas não é obrigado')"
   ]
  },
  {
   "cell_type": "code",
   "execution_count": null,
   "metadata": {},
   "outputs": [],
   "source": [
    "#match case\n"
   ]
  },
  {
   "cell_type": "code",
   "execution_count": null,
   "metadata": {},
   "outputs": [
    {
     "name": "stdout",
     "output_type": "stream",
     "text": [
      " Operador inválido\n"
     ]
    }
   ],
   "source": [
    "num1 = int(input('Digite o valor 1'))\n",
    "num2 = int(input('Digite o valor 2'))\n",
    "op = (input('Digite uma operação'))\n",
    "match op :\n",
    "    case '+' : # if op == '+' :\n",
    "        print (num1 + num2)\n",
    "    case '-' : # if op == '-' :\n",
    "        print (num1 - num2)\n",
    "    case '/' : # if op == '/' :\n",
    "        print (num1 / num2)\n",
    "    case '*' : # if op == '*' :\n",
    "        print (num1 * num2)\n",
    "    case _: \n",
    "        print (' Operador digitado inválido') \n",
    "     "
   ]
  },
  {
   "cell_type": "markdown",
   "metadata": {},
   "source": [
    "08/03/2024 - Laço de repetição - While"
   ]
  },
  {
   "cell_type": "code",
   "execution_count": null,
   "metadata": {},
   "outputs": [
    {
     "name": "stdout",
     "output_type": "stream",
     "text": [
      "Eu vou prestar atenção na aula 1\n",
      "Eu vou prestar atenção na aula 2\n",
      "Eu vou prestar atenção na aula 3\n",
      "Eu vou prestar atenção na aula 4\n",
      "FIM\n"
     ]
    }
   ],
   "source": [
    "x = 1\n",
    "while x <= 4:\n",
    "    print('Eu vou prestar atenção na aula', x)\n",
    "    x = x + 1\n",
    "print ('FIM')"
   ]
  },
  {
   "cell_type": "code",
   "execution_count": null,
   "metadata": {},
   "outputs": [
    {
     "name": "stdout",
     "output_type": "stream",
     "text": [
      "10\n"
     ]
    },
    {
     "name": "stdout",
     "output_type": "stream",
     "text": [
      "9\n",
      "8\n",
      "7\n",
      "6\n",
      "5\n",
      "4\n",
      "3\n",
      "2\n",
      "1\n",
      "0\n",
      "Feliz ano novo\n"
     ]
    }
   ],
   "source": [
    "import time #importando uma biblioteca de tempo\n",
    "x = 10\n",
    "while x >= 0 :\n",
    "    print (x)\n",
    "    time.sleep(0.5) #Dando uma pausa de 1s na execução\n",
    "    x = x - 1\n",
    "print ('Feliz ano novo')"
   ]
  },
  {
   "cell_type": "code",
   "execution_count": null,
   "metadata": {},
   "outputs": [],
   "source": []
  },
  {
   "cell_type": "code",
   "execution_count": null,
   "metadata": {},
   "outputs": [
    {
     "name": "stdout",
     "output_type": "stream",
     "text": [
      "Seja bem vindo, sair\n"
     ]
    }
   ],
   "source": [
    "texto = ''\n",
    "while texto != 'sair' : \n",
    "    texto = input(' Digite seu nome (\"sair\") para terminar):')\n",
    "    print(f'Seja bem vindo, {texto}')\n",
    "                  "
   ]
  },
  {
   "cell_type": "code",
   "execution_count": null,
   "metadata": {},
   "outputs": [
    {
     "name": "stdout",
     "output_type": "stream",
     "text": [
      "FIM\n"
     ]
    }
   ],
   "source": [
    "senha_senai = '12345'\n",
    "nr_tent = 0\n",
    "while True :\n",
    "    senha = input('Qual é a senha🤔? \"Desisto\" para sair  🔒 ')\n",
    "    if senha == senha_senai :\n",
    "        print(' Vc hackeou a rede') \n",
    "        break\n",
    "    elif senha == 'Desisto' :\n",
    "        break\n",
    "    else :\n",
    "        nr_tent = nr_tent +1\n",
    "        if nr_tent == 3 :\n",
    "            print ('Vc esta cancelado')\n",
    "            break\n",
    "print ('FIM')"
   ]
  },
  {
   "cell_type": "markdown",
   "metadata": {},
   "source": [
    "21/03/2024 - Revisão de While"
   ]
  },
  {
   "cell_type": "code",
   "execution_count": null,
   "metadata": {},
   "outputs": [
    {
     "name": "stdout",
     "output_type": "stream",
     "text": [
      "FIM\n"
     ]
    }
   ],
   "source": [
    "resp = 's'\n",
    "while resp == 's' : \n",
    "    resp = input('Deseja continuar? [S/N]}')\n",
    "print (\"FIM\")"
   ]
  },
  {
   "cell_type": "code",
   "execution_count": 38,
   "metadata": {},
   "outputs": [
    {
     "name": "stdout",
     "output_type": "stream",
     "text": [
      "Valor total R$ 30.00 e a quantidade de produtos comprados foi de 3\n"
     ]
    }
   ],
   "source": [
    "soma = 0\n",
    "quantidade = 0\n",
    "while True :\n",
    "    valor = float(input('Digite o valor do produto [ -1 para encerrar]'))\n",
    "    if valor == -1 :\n",
    "        break\n",
    "    soma = valor + soma\n",
    "    quantidade = quantidade + 1\n",
    "print(f'Valor total R$ {soma:.2f} e a quantidade de produtos comprados foi de {quantidade}')"
   ]
  },
  {
   "cell_type": "code",
   "execution_count": 41,
   "metadata": {},
   "outputs": [
    {
     "name": "stdout",
     "output_type": "stream",
     "text": [
      "Valor total R$ 98.00 e a quantidade de produtos comprados foi de 5\n"
     ]
    }
   ],
   "source": [
    "soma = 0\n",
    "quantidade = 0\n",
    "while True :\n",
    "    valor = float(input('Digite o valor do produto [ -1 para encerrar]'))\n",
    "    if valor == -1 :\n",
    "        break\n",
    "    soma = valor + soma\n",
    "    quantidade = quantidade + 1\n",
    "    if quantidade == 5 :\n",
    "        break\n",
    "print(f'Valor total R$ {soma:.2f} e a quantidade de produtos comprados foi de {quantidade}')"
   ]
  },
  {
   "cell_type": "code",
   "execution_count": 42,
   "metadata": {},
   "outputs": [
    {
     "name": "stdout",
     "output_type": "stream",
     "text": [
      "------------------------\n",
      "  JOGO DA ADIVINHAÇÃO   \n",
      "------------------------\n",
      " Você chutou 50, tente um numero menor\n",
      " Você chutou 25, tente um numero maior\n",
      " Você chutou 30, tente um numero maior\n",
      " Você chutou 40, tente um numero menor\n",
      " Você chutou 34. Acerto miseravi!!! \n"
     ]
    }
   ],
   "source": [
    "#Importando a biblioteca de numeros aleatórios\n",
    "import random \n",
    "#Sorteando um número de 1 a 100\n",
    "nrSorteado = random.randint(1, 100)\n",
    "\n",
    "print ('------------------------')\n",
    "print ('  JOGO DA ADIVINHAÇÃO   ')\n",
    "print ('------------------------')\n",
    "\n",
    "acertou = False\n",
    "while acertou == False :\n",
    "    chute = int(input('Digite um numero entre 1 e 100'))\n",
    "    if chute == nrSorteado :\n",
    "        print (f' Você chutou {chute}. Acerto miseravi!!! ')\n",
    "        acertou = True\n",
    "    elif chute > nrSorteado :\n",
    "        print (f' Você chutou {chute}, tente um numero menor')\n",
    "    else :\n",
    "        print (f' Você chutou {chute}, tente um numero maior')"
   ]
  },
  {
   "cell_type": "markdown",
   "metadata": {},
   "source": [
    "22/03/2024 - For"
   ]
  },
  {
   "cell_type": "code",
   "execution_count": 21,
   "metadata": {},
   "outputs": [
    {
     "name": "stdout",
     "output_type": "stream",
     "text": [
      "0\n",
      "1\n",
      "2\n",
      "3\n",
      "4\n",
      "5\n",
      "6\n"
     ]
    }
   ],
   "source": [
    "# x = 1\n",
    "# whie x <= 20 :\n",
    "#    print (x)\n",
    "#    x = x + 1       \n",
    "# print('FIM')\n",
    "\n",
    "for x in range (7) :\n",
    "    print (x)"
   ]
  },
  {
   "cell_type": "code",
   "execution_count": 25,
   "metadata": {},
   "outputs": [
    {
     "name": "stdout",
     "output_type": "stream",
     "text": [
      "Entregando os notebook\n",
      " Pegar o notebook 1\n",
      " Pegar o mouse 1\n",
      " levar o notebook 1 até o(a) JD\n"
     ]
    }
   ],
   "source": [
    "print ('Entregando os notebook') \n",
    "for nr in range (32) :\n",
    "    nr =  nr + 1 \n",
    "    nome = input(f'Quem é o número {nr}')\n",
    "    presente = input(f'O(a) {nome} veio para a escola? S/N')\n",
    "    if presente == 'S' :\n",
    "        print (f' Pegar o notebook {nr}')\n",
    "        print (f' Pegar o mouse {nr}')\n",
    "        print (f' levar o notebook {nr} até o(a) {nome}')\n",
    "    else :\n",
    "        print(f' Não pegar o notebook {nr}')"
   ]
  },
  {
   "cell_type": "code",
   "execution_count": 29,
   "metadata": {},
   "outputs": [
    {
     "name": "stdout",
     "output_type": "stream",
     "text": [
      "5\n",
      "6\n",
      "7\n",
      "8\n",
      "9\n"
     ]
    }
   ],
   "source": [
    "for x in range (5, 10) :\n",
    "    print (x)"
   ]
  },
  {
   "cell_type": "code",
   "execution_count": 33,
   "metadata": {},
   "outputs": [
    {
     "name": "stdout",
     "output_type": "stream",
     "text": [
      "5\n",
      "15\n",
      "25\n"
     ]
    }
   ],
   "source": [
    "for x in range (5, 30, 2) :\n",
    "    print (x)"
   ]
  },
  {
   "cell_type": "code",
   "execution_count": 88,
   "metadata": {},
   "outputs": [
    {
     "name": "stdout",
     "output_type": "stream",
     "text": [
      " 33 x 0 = 0\n",
      " 33 x 1 = 33\n",
      " 33 x 2 = 66\n",
      " 33 x 3 = 99\n",
      " 33 x 4 = 132\n",
      " 33 x 5 = 165\n",
      " 33 x 6 = 198\n",
      " 33 x 7 = 231\n",
      " 33 x 8 = 264\n",
      " 33 x 9 = 297\n",
      " 33 x 10 = 330\n"
     ]
    }
   ],
   "source": [
    "n = int(input(' Digite o nr'))\n",
    "for x in range (11) :\n",
    "    print (f' {n} x {x} = {n*x}')"
   ]
  },
  {
   "cell_type": "code",
   "execution_count": 57,
   "metadata": {},
   "outputs": [
    {
     "name": "stdout",
     "output_type": "stream",
     "text": [
      "0\n",
      "1\n",
      "2\n",
      "3\n",
      "4\n",
      "5\n",
      "6\n",
      "7\n",
      "8\n",
      "9\n"
     ]
    }
   ],
   "source": [
    "for x in range (100) :\n",
    "    if x == 10 :\n",
    "        break\n",
    "    print(x)"
   ]
  },
  {
   "cell_type": "markdown",
   "metadata": {},
   "source": [
    "28/03/2024 - Variáveis Compostas - Vetores / Listas\n",
    "]"
   ]
  },
  {
   "cell_type": "code",
   "execution_count": 6,
   "metadata": {},
   "outputs": [
    {
     "name": "stdout",
     "output_type": "stream",
     "text": [
      "['Maça', 'Banana', 'Abacaxi', 'Uva']\n",
      "Banana\n"
     ]
    }
   ],
   "source": [
    "frutas = ['Maça', 'Banana', 'Abacaxi', 'Uva']\n",
    "print (frutas)\n",
    "print (frutas[1])\n",
    "\n",
    "#Declaração de uma lista vazia\n",
    "lista_vazia = []\n",
    "\n",
    "#Declaração de uma lista vazia\n",
    "numeros = [5, 8, 10, 40, 3]\n",
    "\n",
    "#Declaração de uma lista mista\n",
    "lista_mista = [1, 'teste', True, '3.5']\n"
   ]
  },
  {
   "cell_type": "code",
   "execution_count": 24,
   "metadata": {},
   "outputs": [
    {
     "name": "stdout",
     "output_type": "stream",
     "text": [
      "['Maça', 'Banana', 'Abacaxi', 'Melancia']\n",
      "['Maça', 'Banana', 'Abacaxi', 'Melancia', 'Laranja']\n",
      "['Maça', 'Banana', 'Morango', 'Abacaxi', 'Melancia', 'Laranja']\n",
      "['Maça', 'Banana', 'Morango', 'Melancia']\n",
      "['Maça', 'Banana', 'Morango', 'Abacaxi', 'Melancia', 'Laranja', 'Uva']\n",
      "Melancia\n",
      "['Maça', 'Banana', 'Morango', 'Abacaxi']\n",
      "['Banana', 'Morango', 'Abacaxi', 'Melancia', 'Laranja', 'Uva']\n",
      "Uva\n",
      "7\n",
      "['Abacaxi', 'Banana', 'Laranja', 'Maça', 'Melancia', 'Morango', 'Uva']\n"
     ]
    }
   ],
   "source": [
    "frutas = ['Maça', 'Banana', 'Abacaxi', 'Uva']\n",
    "# Alterando o valor de um item da lista\n",
    "frutas [3] = 'Melancia'\n",
    "print (frutas) \n",
    "\n",
    "# Incluindo um novo item no final da lista\n",
    "frutas.append('Laranja')\n",
    "print(frutas)\n",
    "frutas.insert(2, 'Morango')\n",
    "print(frutas)\n",
    "\n",
    "# Podemos excluir um item da nossa lista com diferentes métodos\n",
    "# del frutas[3]\n",
    "# frutas.pop(3)\n",
    "frutas.remove('Abacaxi')\n",
    "# Excluindo o ultimo item da lista\n",
    "frutas.pop()\n",
    "print(frutas)\n",
    "\n",
    "frutas = ['Maça', 'Banana', 'Morango', 'Abacaxi', 'Melancia', 'Laranja', 'Uva']\n",
    "print(frutas) \n",
    "print(frutas[4]) # Posição específica\n",
    "print(frutas[0:4]) # Da posição 0 pegar 4 itens\n",
    "print(frutas[1:]) # Da posição 1 até o ultimo\n",
    "print(frutas[-1]) # Nr de itens do fim pro início\n",
    "print(len(frutas)) # Total de itens na lista\n",
    "\n",
    "frutas = ['Maça', 'Banana', 'Morango', 'Abacaxi', 'Melancia', 'Laranja', 'Uva']\n",
    "frutas.sort() # Ordenando lista em oredem crescente\n",
    "print(frutas)\n",
    "frutas.reverse() # Ordenando a lista em decrescente"
   ]
  },
  {
   "cell_type": "markdown",
   "metadata": {},
   "source": [
    "04/04/2024 - Iteração em listas\n"
   ]
  },
  {
   "cell_type": "code",
   "execution_count": 24,
   "metadata": {},
   "outputs": [
    {
     "name": "stdout",
     "output_type": "stream",
     "text": [
      "v é uma consoante\n"
     ]
    }
   ],
   "source": [
    "#Criando uma lista de vogais\n",
    "consoantes = ['b', 'c', 'd', 'f', 'g', 'h', 'j', 'k', 'l', 'm', 'n', 'p', 'q', 'r', 's', 't', 'v', 'x', 'y', 'w', 'z']\n",
    "vogais = ['a', 'e', 'i', 'o', 'u' ]\n",
    "numeros = [ '1', '2', '3', '4', '5', '6', '7', '8', '9', '0']\n",
    "#recebendo um caractere digitado pelo\n",
    "letra = input('Informe um caractere')\n",
    "# o método .lower() deixa todas as letras digitadas como minusculas \n",
    "# o método .upper() deixa todas as letras digitadas como maiusculas\n",
    "# lemos da seguinte forma:\n",
    "# SE a letra em MINUSCULA ESTIVER na lista de vogais ENTÃO \n",
    "if letra.lower() in vogais :\n",
    "    print(f'{letra} é uma vogal')\n",
    "elif letra.lower() in consoantes :\n",
    "    print(f'{letra} é uma consoante')\n",
    "elif letra.lower() in numeros :\n",
    "    print(f'{letra} é um numero')\n",
    "else : \n",
    "    print (' Não é uma letra e nem um numero')"
   ]
  },
  {
   "cell_type": "code",
   "execution_count": 28,
   "metadata": {},
   "outputs": [
    {
     "name": "stdout",
     "output_type": "stream",
     "text": [
      "pelé\n",
      "maradona\n",
      "messi\n",
      "cr7\n"
     ]
    }
   ],
   "source": [
    "ln = ['pelé', 'maradona', 'messi', 'cr7']\n",
    "for nome in ln :\n",
    "    print (nome)\n",
    "    "
   ]
  },
  {
   "cell_type": "code",
   "execution_count": 38,
   "metadata": {},
   "outputs": [
    {
     "name": "stdout",
     "output_type": "stream",
     "text": [
      "26\n",
      "26\n"
     ]
    }
   ],
   "source": [
    "ln = [4,6,2,5,9]\n",
    "soma = 0\n",
    "for nr in ln :\n",
    "    soma = soma + nr\n",
    "print(soma)\n",
    "\n",
    "# Essa função que escrevemos faz a mesma coisa que\n",
    "soma = sum(ln)\n",
    "print (soma)"
   ]
  },
  {
   "cell_type": "code",
   "execution_count": 40,
   "metadata": {},
   "outputs": [
    {
     "name": "stdout",
     "output_type": "stream",
     "text": [
      "O jogador pelé esta na posição 0\n",
      "O jogador maradona esta na posição 1\n",
      "O jogador messi esta na posição 2\n",
      "O jogador cr7 esta na posição 3\n"
     ]
    }
   ],
   "source": [
    "ln = ['pelé', 'maradona', 'messi', 'cr7']\n",
    "for pos, jogado in enumerate(ln) :\n",
    "    print(f'O jogador {jogado} esta na posição {pos}')"
   ]
  },
  {
   "cell_type": "code",
   "execution_count": 44,
   "metadata": {},
   "outputs": [
    {
     "name": "stdout",
     "output_type": "stream",
     "text": [
      "Celular\n",
      "Notebook\n",
      "TV\n",
      "Tablet\n",
      "Headseat\n"
     ]
    }
   ],
   "source": [
    "pr = 'Celular,Notebook,TV,Tablet,Headseat'\n",
    "lpr = pr.split(',')\n",
    "for pr in lpr :\n",
    "    print (pr)"
   ]
  },
  {
   "cell_type": "code",
   "execution_count": 47,
   "metadata": {},
   "outputs": [
    {
     "name": "stdout",
     "output_type": "stream",
     "text": [
      "S\n",
      "E\n",
      "N\n",
      "A\n",
      "I\n"
     ]
    }
   ],
   "source": [
    "pl = 'SENAI'\n",
    "for letra in pl :\n",
    "    print(letra)\n",
    "\n"
   ]
  },
  {
   "cell_type": "code",
   "execution_count": 53,
   "metadata": {},
   "outputs": [
    {
     "name": "stdout",
     "output_type": "stream",
     "text": [
      "I\n",
      "I\n",
      "I\n",
      "I\n",
      "I\n"
     ]
    }
   ],
   "source": [
    "pl = 'SENAI'\n",
    "for letra in pl :\n",
    "    print(pl[-1])\n"
   ]
  },
  {
   "cell_type": "code",
   "execution_count": 20,
   "metadata": {},
   "outputs": [],
   "source": [
    "pl = 'SENAI'\n",
    "for letra in pl :\n",
    "    print(pl[0])"
   ]
  },
  {
   "cell_type": "markdown",
   "metadata": {},
   "source": [
    "05/04/2024"
   ]
  },
  {
   "cell_type": "code",
   "execution_count": 4,
   "metadata": {},
   "outputs": [
    {
     "name": "stdout",
     "output_type": "stream",
     "text": [
      "1° Macarrão\n",
      "2° hambuerguer\n",
      "3° waffles\n"
     ]
    }
   ],
   "source": [
    "# Criando uma lista vazia \n",
    "listaComidas = []\n",
    "# Laço de repetição sem um nr de execução definada\n",
    "while True :\n",
    "    # Recebendo informação do usuário e armazenando em uma variável\n",
    "    comida = input('Digite uma comida que vc mais gosta:')\n",
    "    # Inserindo o valor da variável no final da nossa lista\n",
    "    listaComidas.append(comida)\n",
    "    # Obtendo a resposta do usuário se ele quer continuar \n",
    "    resp = input(' Deseja continuar? [S/N]')\n",
    "    # Verificando condição da resposta dele, se for n ou N sair do laço\n",
    "    if resp in 'Nn' :\n",
    "        # Parando o laço de repetiçao\n",
    "        break\n",
    "# Fora do while, ou seja, após finalizar sua executaçao e encontrar o break \n",
    "# Laço de repetição para exibir os itens e suas posições\n",
    "for pos, comida in enumerate(listaComidas) :\n",
    "    # Exibindo as variáveis de cada item da lista \n",
    "    print(f'{pos+1}° {comida}')\n",
    "\n",
    "\n",
    "\n",
    "\n",
    "\n",
    "\n"
   ]
  },
  {
   "cell_type": "markdown",
   "metadata": {},
   "source": [
    "11/04/2024 - Funções "
   ]
  },
  {
   "cell_type": "code",
   "execution_count": 8,
   "metadata": {},
   "outputs": [
    {
     "name": "stdout",
     "output_type": "stream",
     "text": [
      "--------------------\n",
      "SESIS/SENAI\n",
      "--------------------\n"
     ]
    }
   ],
   "source": [
    "print('-'*20)\n",
    "print('SESI/SENAI')\n",
    "print('-'*20)"
   ]
  },
  {
   "cell_type": "code",
   "execution_count": 17,
   "metadata": {},
   "outputs": [
    {
     "name": "stdout",
     "output_type": "stream",
     "text": [
      "$$$$$$$$$$$$$$$$$$$$\n",
      "SESI/SENAI\n",
      "$$$$$$$$$$$$$$$$$$$$\n"
     ]
    }
   ],
   "source": [
    "def linha() :\n",
    "    i = 10\n",
    "    print('$'*20)\n",
    "linha ()\n",
    "print('SESI/SENAI')\n",
    "linha()"
   ]
  },
  {
   "cell_type": "code",
   "execution_count": 51,
   "metadata": {},
   "outputs": [
    {
     "name": "stdout",
     "output_type": "stream",
     "text": [
      "--------------------\n",
      "SESI/SENAI\n",
      "--------------------\n",
      "--------------------\n",
      "SESI/SENAI\n",
      "--------------------\n",
      "--------------------\n",
      "SESI/SENAI\n",
      "--------------------\n"
     ]
    }
   ],
   "source": [
    "def linha() :\n",
    "    print('$'*20)\n",
    "\n",
    "def cabecalho () :\n",
    "    print('-'*20)\n",
    "    print('SESI/SENAI')\n",
    "    print('-'*20)\n",
    "\n",
    "\n",
    "cabecalho ()\n",
    "cabecalho ()\n",
    "cabecalho ()"
   ]
  },
  {
   "cell_type": "code",
   "execution_count": 61,
   "metadata": {},
   "outputs": [
    {
     "name": "stdout",
     "output_type": "stream",
     "text": [
      "Arthur, tenha um bom dia! \n",
      "Parker, tenha um bom dia! \n",
      "Murdock, tenha um bom dia! \n"
     ]
    }
   ],
   "source": [
    "def saudacao() :\n",
    "    name = input('Escreva seu nome')\n",
    "    print(f'{name}, tenha um bom dia! ')\n",
    "for n in range(3):\n",
    "    saudacao() \n"
   ]
  },
  {
   "cell_type": "code",
   "execution_count": 64,
   "metadata": {},
   "outputs": [
    {
     "name": "stdout",
     "output_type": "stream",
     "text": [
      "--------------------\n",
      "SESI\n",
      "--------------------\n",
      "--------------------\n",
      "bababoi\n",
      "--------------------\n"
     ]
    }
   ],
   "source": [
    "def cabecalho (texto) :\n",
    "    print('-'*20)\n",
    "    print(texto)\n",
    "    print('-'*20)\n",
    "\n",
    "cabecalho('SESI')\n",
    "cabecalho('bababoi')\n"
   ]
  },
  {
   "cell_type": "code",
   "execution_count": 66,
   "metadata": {},
   "outputs": [
    {
     "name": "stdout",
     "output_type": "stream",
     "text": [
      " A soma de 33 + 45 é 78\n"
     ]
    }
   ],
   "source": [
    "def soma(n1, n2) :\n",
    "    res = n1 + n2\n",
    "    print(f' A soma de {n1} + {n2} é {res}')\n",
    "\n",
    "soma (33, 45)"
   ]
  },
  {
   "cell_type": "code",
   "execution_count": 72,
   "metadata": {},
   "outputs": [
    {
     "name": "stdout",
     "output_type": "stream",
     "text": [
      " 6 É par\n",
      "7 É impar\n"
     ]
    }
   ],
   "source": [
    "def parlmpar(numero ) :\n",
    "    if numero % 2 == 0 :\n",
    "        print(f' {numero} É par')\n",
    "    else :\n",
    "        print(f'{numero} É impar')\n",
    "    \n",
    "parlmpar(6)\n",
    "parlmpar(7)\n",
    "    "
   ]
  },
  {
   "cell_type": "code",
   "execution_count": null,
   "metadata": {},
   "outputs": [],
   "source": [
    "def Media(n1, n2)\n",
    "    res = (n1 + n2) / 2\n",
    "    return(res)\n",
    "\n",
    "# A variavel res_media recebe o retorno da função Media\n",
    "res_media = Media(10,8)\n",
    "print(res_media)\n",
    "print(Media(10, 2))"
   ]
  },
  {
   "cell_type": "code",
   "execution_count": 87,
   "metadata": {},
   "outputs": [
    {
     "name": "stdout",
     "output_type": "stream",
     "text": [
      "12/11/2000\n"
     ]
    }
   ],
   "source": [
    "def formatarData ( mês, dia, ano) :\n",
    "    data = (f'{dia}/{mês}/{ano}')\n",
    "    return( data)\n",
    "\n",
    "print(formatarData(11, 12, 2000))\n",
    "\n",
    "\n"
   ]
  },
  {
   "cell_type": "markdown",
   "metadata": {},
   "source": [
    "12/04/2024 - Escopo de variáveis (Variável local e global)"
   ]
  },
  {
   "cell_type": "code",
   "execution_count": 5,
   "metadata": {},
   "outputs": [
    {
     "name": "stdout",
     "output_type": "stream",
     "text": [
      "Valor ANTES da função SENAI\n",
      "Valor dentro da função SESI\n",
      "Escola antes da  funçãoSENAI\n"
     ]
    }
   ],
   "source": [
    "def nomeEscola():\n",
    "    escola = 'SESI'\n",
    "    print(f'Valor dentro da função {escola}')\n",
    "\n",
    "          \n",
    "escola = 'SENAI'\n",
    "print(f'Valor ANTES da função {escola}')\n",
    "nomeEscola()\n",
    "print(f'Escola antes da  função {escola}')\n",
    "\n"
   ]
  },
  {
   "cell_type": "code",
   "execution_count": 6,
   "metadata": {},
   "outputs": [
    {
     "name": "stdout",
     "output_type": "stream",
     "text": [
      " Valor ANTES da função SENAI\n",
      "Valor dentro da função SESI\n",
      "Valor DEPOIS da função SESI\n"
     ]
    }
   ],
   "source": [
    "def NomeEscola():\n",
    "    # Caso eu queira atualizar o conteúdo da variável escola\n",
    "    # preciso escrever que ela é global\n",
    "    global escola\n",
    "    escola = 'SESI'\n",
    "    print(f'Valor dentro da função {escola}')\n",
    "\n",
    "escola = 'SENAI'\n",
    "print(f' Valor ANTES da função {escola}')\n",
    "NomeEscola()\n",
    "print(f'Valor DEPOIS da função {escola}')"
   ]
  },
  {
   "cell_type": "code",
   "execution_count": 7,
   "metadata": {},
   "outputs": [
    {
     "name": "stdout",
     "output_type": "stream",
     "text": [
      "fora da função 10\n",
      "Dentro da função 1\n",
      "fora da função 10\n"
     ]
    }
   ],
   "source": [
    "x = 10 # x é uma vaiável global\n",
    "# Podemos acessar x fora de uma função também\n",
    "print(\"fora da função\", x)\n",
    "\n",
    "def minhaFuncao() :\n",
    "    x = 0 # <- variavel local \n",
    "    x = x + 1\n",
    "    print('Dentro da função', x)\n",
    "\n",
    "minhaFuncao()\n",
    "print('fora da função', x)"
   ]
  },
  {
   "cell_type": "code",
   "execution_count": 9,
   "metadata": {},
   "outputs": [
    {
     "name": "stdout",
     "output_type": "stream",
     "text": [
      "fora da função 10\n",
      "Dentro da função 11\n",
      "fora da função 11\n"
     ]
    }
   ],
   "source": [
    "x = 10 # x é uma variável global\n",
    "# Podemos acessar x fora de uma função também\n",
    "print(\"fora da função\", x)\n",
    "\n",
    "def minhaFuncao() :\n",
    "    '''\n",
    "        Aqui posso escrever a descrição do que faz a minha função \n",
    "    '''\n",
    "    global x # Dizendo que usaremos a variavel x global \n",
    "    x = x + 1\n",
    "    print('Dentro da função', x)\n",
    "\n",
    "minhaFuncao()\n",
    "print('fora da função', x) "
   ]
  }
 ],
 "metadata": {
  "kernelspec": {
   "display_name": "Python 3",
   "language": "python",
   "name": "python3"
  },
  "language_info": {
   "codemirror_mode": {
    "name": "ipython",
    "version": 3
   },
   "file_extension": ".py",
   "mimetype": "text/x-python",
   "name": "python",
   "nbconvert_exporter": "python",
   "pygments_lexer": "ipython3",
   "version": "3.12.3"
  }
 },
 "nbformat": 4,
 "nbformat_minor": 2
}
