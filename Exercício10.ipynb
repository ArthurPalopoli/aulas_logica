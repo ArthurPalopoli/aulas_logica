{
 "cells": [
  {
   "cell_type": "markdown",
   "metadata": {},
   "source": [
    "Atividade 1 - Escreva uma função que utilize uma variável global para contar o número de vezes que foi\n",
    "chamada. A função deve retornar o número atual de chamadas."
   ]
  },
  {
   "cell_type": "code",
   "execution_count": 12,
   "metadata": {},
   "outputs": [
    {
     "data": {
      "text/plain": [
       "3"
      ]
     },
     "execution_count": 12,
     "metadata": {},
     "output_type": "execute_result"
    }
   ],
   "source": [
    "x = 0\n",
    "def fun() :\n",
    "    global x\n",
    "    x = x + 1\n",
    "    return x\n",
    "    print(x)\n",
    "fun()\n",
    "fun()\n",
    "fun()\n"
   ]
  },
  {
   "cell_type": "markdown",
   "metadata": {},
   "source": [
    "Atividade 2 - Crie um algoritmo que receba em variável global o valor atual do dólar e do euro, crie uma\n",
    "função que receba o valor a ser convertido e imprima a conversão em dólar e em euro"
   ]
  },
  {
   "cell_type": "code",
   "execution_count": 1,
   "metadata": {},
   "outputs": [
    {
     "name": "stdout",
     "output_type": "stream",
     "text": [
      "O valor em dolar é 8.58 e em euro é 8.07\n"
     ]
    }
   ],
   "source": [
    "dolar = 5.13\n",
    "euro = 5.45\n",
    "def conver(valor) :\n",
    "    global dolar, euro \n",
    "    print(f'O valor em dolar é {valor/dolar:.2f} e em euro é {valor/euro:.2f}')\n",
    "\n",
    "conver(44)\n"
   ]
  },
  {
   "cell_type": "markdown",
   "metadata": {},
   "source": [
    "    Atividade 3 -Escreva uma função que recebe um nome e o adicione a uma lista de nomes global. \n",
    "    Em seguida, escreva outra função que remova um elemento dessa lista global recebendo o nome."
   ]
  },
  {
   "cell_type": "code",
   "execution_count": 28,
   "metadata": {},
   "outputs": [
    {
     "name": "stdout",
     "output_type": "stream",
     "text": [
      "['Arthur', 'lucas', 'João', 'Pedro']\n",
      "['Arthur', 'lucas', 'Pedro']\n"
     ]
    }
   ],
   "source": [
    "lista = ['Arthur', 'lucas', 'João']\n",
    "\n",
    "\n",
    "def func (nomes) :\n",
    "    global lista\n",
    "    lista.append(nomes)\n",
    "    print(lista)\n",
    "\n",
    "def func2 (bla):\n",
    "    global lista\n",
    "    lista.pop(bla)\n",
    "    print(lista)\n",
    "\n",
    "\n",
    "func('Pedro')\n",
    "func2(2)"
   ]
  },
  {
   "cell_type": "markdown",
   "metadata": {},
   "source": [
    "Atividade 4 - Crie um caixa eletrônico: Crie uma variável global para armazenar o saldo, crie função para\n",
    "depositar e sacar, recebendo o valor como parâmetro, crie outra função para consultar o\n",
    "saldo. Crie um menu interativo com while para navegar entre as funções: "
   ]
  },
  {
   "cell_type": "code",
   "execution_count": 34,
   "metadata": {},
   "outputs": [
    {
     "name": "stdout",
     "output_type": "stream",
     "text": [
      "Deposito efetuado\n",
      "O saldo total de sua conta neste momento é de 20\n"
     ]
    }
   ],
   "source": [
    "#Meu jeito\n",
    "saldo = 0\n",
    "while True :\n",
    "    def deposacar(valor) :\n",
    "        global saldo\n",
    "        saldo = saldo + valor\n",
    "        if valor > 0  :\n",
    "            print('Deposito efetuado')\n",
    "        else :\n",
    "            print('Saque efetuado')    \n",
    "            \n",
    "    def consulta() :\n",
    "        global saldo\n",
    "        print(f'O saldo total de sua conta neste momento é de {saldo}')\n",
    "    break\n",
    "\n",
    "deposacar(+20) \n",
    "consulta()"
   ]
  },
  {
   "cell_type": "code",
   "execution_count": 40,
   "metadata": {},
   "outputs": [
    {
     "name": "stdout",
     "output_type": "stream",
     "text": [
      "Menu\n",
      "[1] Depositar\n",
      "[2] Sacar\n",
      "[3] Consultar\n",
      "[4] Sair\n",
      "Seu saldo R$ inf\n"
     ]
    }
   ],
   "source": [
    "#Jeito do professor\n",
    "saldo = 0\n",
    "\n",
    "def depositar(valor) :\n",
    "    global saldo \n",
    "    saldo = saldo + valor\n",
    "\n",
    "def sacar(valor) :\n",
    "    global saldo \n",
    "    saldo = saldo - valor\n",
    "\n",
    "def ConsultarSaldo() :\n",
    "    print(f'Seu saldo R$ {saldo:.2f}')\n",
    "\n",
    "print('Menu')\n",
    "print('[1] Depositar')\n",
    "print('[2] Sacar')\n",
    "print('[3] Consultar')\n",
    "print('[4] Sair')\n",
    "while True :\n",
    "    opcao = input('Digite a opção do Menu')\n",
    "    if opcao == '1' :\n",
    "        valor = float(input('Digite o valor para Depositar'))\n",
    "        depositar(valor)\n",
    "    elif opcao == '2' :\n",
    "        valor = float(input('Digite o valor para sacar'))\n",
    "        sacar(valor)\n",
    "    elif opcao == '3' :\n",
    "        ConsultarSaldo()\n",
    "    else :\n",
    "        break\n",
    "\n"
   ]
  },
  {
   "cell_type": "markdown",
   "metadata": {},
   "source": [
    "Atividade 5"
   ]
  },
  {
   "cell_type": "code",
   "execution_count": 42,
   "metadata": {},
   "outputs": [
    {
     "name": "stdout",
     "output_type": "stream",
     "text": [
      "++++++++++++++++++++\n",
      "++++++++++++++++++++\n",
      "++++++++++++++++++++\n",
      "++++++++++++++++++++\n",
      "++++++++++++++++++++\n"
     ]
    }
   ],
   "source": [
    "caractere = '+'\n",
    "def desenharForma(l, a) :\n",
    "    global caractere\n",
    "    for i in range(a) :\n",
    "        print(caractere * l)\n",
    "\n",
    "desenharForma(20, 5)"
   ]
  }
 ],
 "metadata": {
  "kernelspec": {
   "display_name": "Python 3",
   "language": "python",
   "name": "python3"
  },
  "language_info": {
   "codemirror_mode": {
    "name": "ipython",
    "version": 3
   },
   "file_extension": ".py",
   "mimetype": "text/x-python",
   "name": "python",
   "nbconvert_exporter": "python",
   "pygments_lexer": "ipython3",
   "version": "3.12.3"
  }
 },
 "nbformat": 4,
 "nbformat_minor": 2
}
